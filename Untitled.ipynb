{
 "cells": [
  {
   "cell_type": "code",
   "execution_count": null,
   "id": "676e1510-a695-4bd1-ad4d-4f2e16266584",
   "metadata": {},
   "outputs": [],
   "source": [
    "from transformers import pipeline\n",
    "\n",
    "# 加载生成式模型å\n",
    "generator = pipeline(\"text-generation\", model=\"gpt2\")\n",
    "\n",
    "# 模拟数据库返回的字段\n",
    "supplier_name = \"某某供应商\"\n",
    "risk_data = [\n",
    "    (\"排污许可证字段为空\", \"\"),\n",
    "    (\"2021-1-1 环保处罚\", \"\"),\n",
    "    (\"2022-2-2 安监处罚\", \"\"),\n",
    "    (\"2023-2-3 动产抵押\", \"\")\n",
    "]\n",
    "\n",
    "# 生成问题和上下文\n",
    "prompt = f\"{supplier_name} 供应商的风险是什么？\\n\"\n",
    "prompt += \"\\n\".join([f\"{index + 1}. {risk}\" for index, (risk, _) in enumerate(risk_data)])\n",
    "prompt += \"\\nAI答：\"\n",
    "\n",
    "# 使用生成式模型生成回答\n",
    "response = generator(prompt, max_length=200, num_return_sequences=1)[0]['generated_text']\n",
    "\n",
    "print(response)\n"
   ]
  },
  {
   "cell_type": "code",
   "execution_count": null,
   "id": "db6fedfa-bcbe-42e5-a7da-d879b2f4347a",
   "metadata": {},
   "outputs": [],
   "source": []
  },
  {
   "cell_type": "code",
   "execution_count": null,
   "id": "887a9787-4a09-43aa-9ba6-60090ef717c8",
   "metadata": {},
   "outputs": [],
   "source": []
  }
 ],
 "metadata": {
  "kernelspec": {
   "display_name": "env_pyg",
   "language": "python",
   "name": "env_pyg"
  },
  "language_info": {
   "name": ""
  }
 },
 "nbformat": 4,
 "nbformat_minor": 5
}
