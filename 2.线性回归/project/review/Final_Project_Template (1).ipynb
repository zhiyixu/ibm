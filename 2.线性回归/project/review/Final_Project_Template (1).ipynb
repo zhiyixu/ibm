{
 "cells": [
  {
   "cell_type": "markdown",
   "metadata": {},
   "source": [
    "<p style=\"text-align:center\">\n",
    "    <a href=\"https://skills.network/?utm_medium=Exinfluencer&utm_source=Exinfluencer&utm_content=000026UJ&utm_term=10006555&utm_id=NA-SkillsNetwork-Channel-SkillsNetworkCoursesIBMDeveloperSkillsNetworkML0101ENSkillsNetwork20718538-2022-01-01\">\n",
    "    <img src=\"https://cf-courses-data.s3.us.cloud-object-storage.appdomain.cloud/assets/logos/SN_web_lightmode.png\" width=\"200\" alt=\"Skills Network Logo\"  />\n",
    "    </a>\n",
    "</p>\n",
    "\n",
    "<h1 align=\"center\"><font size=\"5\">Supervised Machine Learning: Regression - Final Assignment</font></h1>\n"
   ]
  },
  {
   "cell_type": "markdown",
   "metadata": {},
   "source": [
    "## Instructions:\n",
    "\n",
    "In this Assignment, you will demonstrate the data regression skills you have learned by completing this course. You are expected to leverage a wide variety of tools, but also this report should focus on present findings, insights, and next steps. You may include some visuals from your code output, but this report is intended as a summary of your findings, not as a code review. \n",
    "\n",
    "The grading will center around 5 main points:\n",
    "\n",
    "1. Does the report include a section describing the data?\n",
    "2. Does the report include a paragraph detailing the main objective(s) of this analysis? \n",
    "3. Does the report include a section with variations of linear regression models and specifies which one is the model that best suits the main objective(s) of this analysis.\n",
    "4. Does the report include a clear and well-presented section with key findings related to the main objective(s) of the analysis?\n",
    "5. Does the report highlight possible flaws in the model and a plan of action to revisit this analysis with additional data or different predictive modeling techniques? \n",
    "\n",
    "\n"
   ]
  },
  {
   "cell_type": "markdown",
   "metadata": {},
   "source": [
    "## Import the required libraries\n"
   ]
  },
  {
   "cell_type": "markdown",
   "metadata": {},
   "source": [
    "The following required modules are pre-installed in the Skills Network Labs environment. However if you run this notebook commands in a different Jupyter environment (e.g. Watson Studio or Ananconda) you will need to install these libraries by removing the `#` sign before `!mamba` in the code cell below.\n"
   ]
  },
  {
   "cell_type": "code",
   "execution_count": null,
   "metadata": {},
   "outputs": [],
   "source": [
    "# All Libraries required for this lab are listed below. The libraries pre-installed on Skills Network Labs are commented.\n",
    "# !mamba install -qy pandas==1.3.4 numpy==1.21.4 seaborn==0.9.0 matplotlib==3.5.0 scikit-learn==0.20.1\n",
    "# Note: If your environment doesn't support \"!mamba install\", use \"!pip install\""
   ]
  },
  {
   "cell_type": "code",
   "execution_count": 225,
   "metadata": {
    "tags": []
   },
   "outputs": [],
   "source": [
    "import pandas as pd\n",
    "import numpy as np\n",
    "import seaborn as sns\n",
    "from sklearn.preprocessing import StandardScaler\n",
    "from sklearn.model_selection import train_test_split\n",
    "from sklearn.linear_model import Lasso, Ridge, LinearRegression\n",
    "from sklearn.metrics import r2_score\n",
    "from sklearn.decomposition import PCA"
   ]
  },
  {
   "cell_type": "markdown",
   "metadata": {},
   "source": [
    "## Importing the Dataset\n"
   ]
  },
  {
   "cell_type": "markdown",
   "metadata": {},
   "source": [
    "Before you begin, you will need to choose a data set that you feel passionate about. You can brainstorm with your peers about great public data sets using the discussion board in this module.\n"
   ]
  },
  {
   "cell_type": "markdown",
   "metadata": {},
   "source": [
    "Read your chosen dataset into pandas dataframe:\n"
   ]
  },
  {
   "cell_type": "code",
   "execution_count": 3,
   "metadata": {
    "tags": []
   },
   "outputs": [
    {
     "data": {
      "text/html": [
       "<div>\n",
       "<style scoped>\n",
       "    .dataframe tbody tr th:only-of-type {\n",
       "        vertical-align: middle;\n",
       "    }\n",
       "\n",
       "    .dataframe tbody tr th {\n",
       "        vertical-align: top;\n",
       "    }\n",
       "\n",
       "    .dataframe thead th {\n",
       "        text-align: right;\n",
       "    }\n",
       "</style>\n",
       "<table border=\"1\" class=\"dataframe\">\n",
       "  <thead>\n",
       "    <tr style=\"text-align: right;\">\n",
       "      <th></th>\n",
       "      <th>Crash Date/Time</th>\n",
       "      <th>Route Type</th>\n",
       "      <th>Collision Type</th>\n",
       "      <th>Weather</th>\n",
       "      <th>Surface Condition</th>\n",
       "      <th>Light</th>\n",
       "      <th>Traffic Control</th>\n",
       "      <th>Driver Substance Abuse</th>\n",
       "      <th>Non-Motorist Substance Abuse</th>\n",
       "      <th>Driver At Fault</th>\n",
       "      <th>...</th>\n",
       "      <th>Vehicle Movement</th>\n",
       "      <th>Vehicle Continuing Dir</th>\n",
       "      <th>Vehicle Going Dir</th>\n",
       "      <th>Speed Limit</th>\n",
       "      <th>Driverless Vehicle</th>\n",
       "      <th>Parked Vehicle</th>\n",
       "      <th>Vehicle Year</th>\n",
       "      <th>Vehicle Make</th>\n",
       "      <th>Vehicle Model</th>\n",
       "      <th>Equipment Problems</th>\n",
       "    </tr>\n",
       "  </thead>\n",
       "  <tbody>\n",
       "    <tr>\n",
       "      <th>0</th>\n",
       "      <td>1/3/2024 14:55</td>\n",
       "      <td>NaN</td>\n",
       "      <td>OPPOSITE DIRECTION SIDESWIPE</td>\n",
       "      <td>CLOUDY</td>\n",
       "      <td>NaN</td>\n",
       "      <td>DAYLIGHT</td>\n",
       "      <td>NO CONTROLS</td>\n",
       "      <td>NONE DETECTED</td>\n",
       "      <td>NaN</td>\n",
       "      <td>Yes</td>\n",
       "      <td>...</td>\n",
       "      <td>MOVING CONSTANT SPEED</td>\n",
       "      <td>South</td>\n",
       "      <td>South</td>\n",
       "      <td>0</td>\n",
       "      <td>No</td>\n",
       "      <td>No</td>\n",
       "      <td>2017</td>\n",
       "      <td>LEXUS</td>\n",
       "      <td>SUV</td>\n",
       "      <td>NO MISUSE</td>\n",
       "    </tr>\n",
       "    <tr>\n",
       "      <th>1</th>\n",
       "      <td>12/16/2023 12:36</td>\n",
       "      <td>Maryland (State)</td>\n",
       "      <td>STRAIGHT MOVEMENT ANGLE</td>\n",
       "      <td>CLEAR</td>\n",
       "      <td>DRY</td>\n",
       "      <td>DAYLIGHT</td>\n",
       "      <td>TRAFFIC SIGNAL</td>\n",
       "      <td>NONE DETECTED</td>\n",
       "      <td>NONE DETECTED</td>\n",
       "      <td>No</td>\n",
       "      <td>...</td>\n",
       "      <td>MOVING CONSTANT SPEED</td>\n",
       "      <td>North</td>\n",
       "      <td>West</td>\n",
       "      <td>35</td>\n",
       "      <td>No</td>\n",
       "      <td>No</td>\n",
       "      <td>2010</td>\n",
       "      <td>TOYT</td>\n",
       "      <td>PRIUS</td>\n",
       "      <td>NO MISUSE</td>\n",
       "    </tr>\n",
       "    <tr>\n",
       "      <th>2</th>\n",
       "      <td>12/29/2023 12:00</td>\n",
       "      <td>Maryland (State)</td>\n",
       "      <td>SAME DIR REAR END</td>\n",
       "      <td>CLEAR</td>\n",
       "      <td>DRY</td>\n",
       "      <td>DAYLIGHT</td>\n",
       "      <td>TRAFFIC SIGNAL</td>\n",
       "      <td>NONE DETECTED</td>\n",
       "      <td>NaN</td>\n",
       "      <td>No</td>\n",
       "      <td>...</td>\n",
       "      <td>MOVING CONSTANT SPEED</td>\n",
       "      <td>South</td>\n",
       "      <td>South</td>\n",
       "      <td>35</td>\n",
       "      <td>No</td>\n",
       "      <td>No</td>\n",
       "      <td>2021</td>\n",
       "      <td>SUBARU</td>\n",
       "      <td>FORRESTER</td>\n",
       "      <td>NO MISUSE</td>\n",
       "    </tr>\n",
       "    <tr>\n",
       "      <th>3</th>\n",
       "      <td>11/5/2023 21:07</td>\n",
       "      <td>Maryland (State)</td>\n",
       "      <td>SINGLE VEHICLE</td>\n",
       "      <td>CLEAR</td>\n",
       "      <td>DRY</td>\n",
       "      <td>DARK LIGHTS ON</td>\n",
       "      <td>NO CONTROLS</td>\n",
       "      <td>NONE DETECTED</td>\n",
       "      <td>NaN</td>\n",
       "      <td>No</td>\n",
       "      <td>...</td>\n",
       "      <td>MOVING CONSTANT SPEED</td>\n",
       "      <td>South</td>\n",
       "      <td>South</td>\n",
       "      <td>40</td>\n",
       "      <td>No</td>\n",
       "      <td>No</td>\n",
       "      <td>2019</td>\n",
       "      <td>DODGE</td>\n",
       "      <td>CHARGER</td>\n",
       "      <td>NO MISUSE</td>\n",
       "    </tr>\n",
       "    <tr>\n",
       "      <th>4</th>\n",
       "      <td>11/18/2023 0:40</td>\n",
       "      <td>Maryland (State)</td>\n",
       "      <td>SINGLE VEHICLE</td>\n",
       "      <td>RAINING</td>\n",
       "      <td>WET</td>\n",
       "      <td>DARK LIGHTS ON</td>\n",
       "      <td>YIELD SIGN</td>\n",
       "      <td>NONE DETECTED</td>\n",
       "      <td>NaN</td>\n",
       "      <td>Yes</td>\n",
       "      <td>...</td>\n",
       "      <td>MOVING CONSTANT SPEED</td>\n",
       "      <td>North</td>\n",
       "      <td>North</td>\n",
       "      <td>20</td>\n",
       "      <td>No</td>\n",
       "      <td>No</td>\n",
       "      <td>2014</td>\n",
       "      <td>NISSAN</td>\n",
       "      <td>ROGUE</td>\n",
       "      <td>NaN</td>\n",
       "    </tr>\n",
       "  </tbody>\n",
       "</table>\n",
       "<p>5 rows × 28 columns</p>\n",
       "</div>"
      ],
      "text/plain": [
       "    Crash Date/Time        Route Type                Collision Type  Weather  \\\n",
       "0    1/3/2024 14:55               NaN  OPPOSITE DIRECTION SIDESWIPE   CLOUDY   \n",
       "1  12/16/2023 12:36  Maryland (State)       STRAIGHT MOVEMENT ANGLE    CLEAR   \n",
       "2  12/29/2023 12:00  Maryland (State)             SAME DIR REAR END    CLEAR   \n",
       "3   11/5/2023 21:07  Maryland (State)                SINGLE VEHICLE    CLEAR   \n",
       "4   11/18/2023 0:40  Maryland (State)                SINGLE VEHICLE  RAINING   \n",
       "\n",
       "  Surface Condition           Light Traffic Control Driver Substance Abuse  \\\n",
       "0               NaN        DAYLIGHT     NO CONTROLS          NONE DETECTED   \n",
       "1               DRY        DAYLIGHT  TRAFFIC SIGNAL          NONE DETECTED   \n",
       "2               DRY        DAYLIGHT  TRAFFIC SIGNAL          NONE DETECTED   \n",
       "3               DRY  DARK LIGHTS ON     NO CONTROLS          NONE DETECTED   \n",
       "4               WET  DARK LIGHTS ON      YIELD SIGN          NONE DETECTED   \n",
       "\n",
       "  Non-Motorist Substance Abuse Driver At Fault  ...       Vehicle Movement  \\\n",
       "0                          NaN             Yes  ...  MOVING CONSTANT SPEED   \n",
       "1                NONE DETECTED              No  ...  MOVING CONSTANT SPEED   \n",
       "2                          NaN              No  ...  MOVING CONSTANT SPEED   \n",
       "3                          NaN              No  ...  MOVING CONSTANT SPEED   \n",
       "4                          NaN             Yes  ...  MOVING CONSTANT SPEED   \n",
       "\n",
       "  Vehicle Continuing Dir Vehicle Going Dir Speed Limit Driverless Vehicle  \\\n",
       "0                  South             South           0                 No   \n",
       "1                  North              West          35                 No   \n",
       "2                  South             South          35                 No   \n",
       "3                  South             South          40                 No   \n",
       "4                  North             North          20                 No   \n",
       "\n",
       "  Parked Vehicle Vehicle Year Vehicle Make Vehicle Model Equipment Problems  \n",
       "0             No         2017        LEXUS           SUV          NO MISUSE  \n",
       "1             No         2010         TOYT         PRIUS          NO MISUSE  \n",
       "2             No         2021       SUBARU     FORRESTER          NO MISUSE  \n",
       "3             No         2019        DODGE       CHARGER          NO MISUSE  \n",
       "4             No         2014       NISSAN         ROGUE                NaN  \n",
       "\n",
       "[5 rows x 28 columns]"
      ]
     },
     "execution_count": 3,
     "metadata": {},
     "output_type": "execute_result"
    }
   ],
   "source": [
    "data = pd.read_csv('MCD.csv')\n",
    "data.head()"
   ]
  },
  {
   "cell_type": "markdown",
   "metadata": {},
   "source": [
    "Once you have selected a data set, you will produce the deliverables listed below and submit them to one of your peers for review. Treat this exercise as an opportunity to produce analysis that are ready to highlight your analytical skills for a senior audience, for example, the Chief Data Officer, or the Head of Analytics at your company.\n",
    "Sections required in your report:\n",
    "\n",
    "*   Main objective of the analysis that specifies whether your model will be focused on prediction or interpretation.\n",
    "*   Brief description of the data set you chose and a summary of its attributes.\n",
    "*   Brief summary of data exploration and actions taken for data cleaning and feature engineering.\n",
    "*   Summary of training at least three linear regression models which should be variations that cover using a simple  linear regression as a baseline, adding polynomial effects, and using a regularization regression. Preferably, all use the same training and test splits, or the same cross-validation method.\n",
    "*  A paragraph explaining which of your regressions you recommend as a final model that best fits your needs in terms of accuracy and explainability.\n",
    "*  Summary Key Findings and Insights, which walks your reader through the main drivers of your model and insights from your data derived from your linear regression model.\n",
    "*  Suggestions for next steps in analyzing this data, which may include suggesting revisiting this model adding specific data features to achieve a better explanation or a better prediction.\n"
   ]
  },
  {
   "cell_type": "markdown",
   "metadata": {},
   "source": [
    "# 1. About the Data\n"
   ]
  },
  {
   "cell_type": "markdown",
   "metadata": {
    "tags": []
   },
   "source": [
    "### Brief description of the data set"
   ]
  },
  {
   "cell_type": "markdown",
   "metadata": {},
   "source": [
    "This dataset contains information about car crashes in City of New York. Original source: https://catalog.data.gov/dataset/motor-vehicle-collisions-crashes\n",
    "\n",
    "It has 28 columns (mostly categorical) describing conditions of 138632 car crashes registered in New York last year. Such as Weather, time, type of accident, car direction etc."
   ]
  },
  {
   "cell_type": "markdown",
   "metadata": {},
   "source": [
    "### Main objective of the analysis"
   ]
  },
  {
   "cell_type": "markdown",
   "metadata": {},
   "source": [
    "I'll try to analyze this dataset to find out whether there are certain conditions that influence car crash probability at certain speed limit, or not.\n",
    "Regression model should be able to predict unsafe speed limit at which met conditions would result into crash.\n",
    "Although this dataset somewhat biased, because it contains only 'crashed' instances of data, it still allows to predict said unsafe speed limit."
   ]
  },
  {
   "cell_type": "code",
   "execution_count": 4,
   "metadata": {
    "tags": []
   },
   "outputs": [
    {
     "data": {
      "text/plain": [
       "Index(['Crash Date/Time', 'Route Type', 'Collision Type', 'Weather',\n",
       "       'Surface Condition', 'Light', 'Traffic Control',\n",
       "       'Driver Substance Abuse', 'Non-Motorist Substance Abuse',\n",
       "       'Driver At Fault', 'Injury Severity', 'Circumstance',\n",
       "       'Driver Distracted By', 'Drivers License State',\n",
       "       'Vehicle Damage Extent', 'Vehicle First Impact Location',\n",
       "       'Vehicle Second Impact Location', 'Vehicle Body Type',\n",
       "       'Vehicle Movement', 'Vehicle Continuing Dir', 'Vehicle Going Dir',\n",
       "       'Speed Limit', 'Driverless Vehicle', 'Parked Vehicle', 'Vehicle Year',\n",
       "       'Vehicle Make', 'Vehicle Model', 'Equipment Problems'],\n",
       "      dtype='object')"
      ]
     },
     "execution_count": 4,
     "metadata": {},
     "output_type": "execute_result"
    }
   ],
   "source": [
    "data.columns"
   ]
  },
  {
   "cell_type": "code",
   "execution_count": 5,
   "metadata": {
    "tags": []
   },
   "outputs": [
    {
     "data": {
      "text/plain": [
       "(172105, 28)"
      ]
     },
     "execution_count": 5,
     "metadata": {},
     "output_type": "execute_result"
    }
   ],
   "source": [
    "data.shape"
   ]
  },
  {
   "cell_type": "markdown",
   "metadata": {},
   "source": [
    "# 2. Objectives\n"
   ]
  },
  {
   "cell_type": "markdown",
   "metadata": {},
   "source": [
    "Using this dataset, I'll try to build a regression model predicting speed limit at which car crash probably will occur, depending of different conditions."
   ]
  },
  {
   "cell_type": "markdown",
   "metadata": {},
   "source": [
    "To build this regression I'll use sklearn modules 'Lasso', 'Ridge' and 'Linear' regressions, and use knowledge obtained in this Machine Learning course."
   ]
  },
  {
   "cell_type": "markdown",
   "metadata": {},
   "source": [
    "# 3. Linear Regression Models\n"
   ]
  },
  {
   "cell_type": "markdown",
   "metadata": {},
   "source": [
    "### Data exploration steps"
   ]
  },
  {
   "cell_type": "markdown",
   "metadata": {
    "tags": []
   },
   "source": [
    "Since almost all columns of this dataset contain categorical data, I'll not do dataset's statistical describe. Instead I'll handle Missing and placeholder Values, as those are most significant in categorized exploration.\n",
    "Regarding of column I'll either replace such values with most frequent or default values, or drop those rows.\n",
    "Also most irrelevant columns would also be removed.\n",
    "\n",
    "Then I'll encode categorical values using get_dummies method and use scikit learn PCA to shrink resulting dataframe dimensions."
   ]
  },
  {
   "cell_type": "code",
   "execution_count": 6,
   "metadata": {
    "tags": []
   },
   "outputs": [
    {
     "data": {
      "text/html": [
       "<div>\n",
       "<style scoped>\n",
       "    .dataframe tbody tr th:only-of-type {\n",
       "        vertical-align: middle;\n",
       "    }\n",
       "\n",
       "    .dataframe tbody tr th {\n",
       "        vertical-align: top;\n",
       "    }\n",
       "\n",
       "    .dataframe thead th {\n",
       "        text-align: right;\n",
       "    }\n",
       "</style>\n",
       "<table border=\"1\" class=\"dataframe\">\n",
       "  <thead>\n",
       "    <tr style=\"text-align: right;\">\n",
       "      <th></th>\n",
       "      <th>0</th>\n",
       "    </tr>\n",
       "  </thead>\n",
       "  <tbody>\n",
       "    <tr>\n",
       "      <th>Non-Motorist Substance Abuse</th>\n",
       "      <td>167788</td>\n",
       "    </tr>\n",
       "    <tr>\n",
       "      <th>Circumstance</th>\n",
       "      <td>140746</td>\n",
       "    </tr>\n",
       "    <tr>\n",
       "      <th>Equipment Problems</th>\n",
       "      <td>34141</td>\n",
       "    </tr>\n",
       "    <tr>\n",
       "      <th>Driver Substance Abuse</th>\n",
       "      <td>31324</td>\n",
       "    </tr>\n",
       "    <tr>\n",
       "      <th>Traffic Control</th>\n",
       "      <td>25469</td>\n",
       "    </tr>\n",
       "    <tr>\n",
       "      <th>Surface Condition</th>\n",
       "      <td>20118</td>\n",
       "    </tr>\n",
       "    <tr>\n",
       "      <th>Route Type</th>\n",
       "      <td>16973</td>\n",
       "    </tr>\n",
       "    <tr>\n",
       "      <th>Weather</th>\n",
       "      <td>13354</td>\n",
       "    </tr>\n",
       "    <tr>\n",
       "      <th>Drivers License State</th>\n",
       "      <td>9950</td>\n",
       "    </tr>\n",
       "    <tr>\n",
       "      <th>Vehicle Going Dir</th>\n",
       "      <td>2689</td>\n",
       "    </tr>\n",
       "    <tr>\n",
       "      <th>Vehicle Continuing Dir</th>\n",
       "      <td>2689</td>\n",
       "    </tr>\n",
       "    <tr>\n",
       "      <th>Vehicle Body Type</th>\n",
       "      <td>2649</td>\n",
       "    </tr>\n",
       "    <tr>\n",
       "      <th>Light</th>\n",
       "      <td>1445</td>\n",
       "    </tr>\n",
       "    <tr>\n",
       "      <th>Collision Type</th>\n",
       "      <td>585</td>\n",
       "    </tr>\n",
       "    <tr>\n",
       "      <th>Vehicle Movement</th>\n",
       "      <td>386</td>\n",
       "    </tr>\n",
       "    <tr>\n",
       "      <th>Vehicle Damage Extent</th>\n",
       "      <td>316</td>\n",
       "    </tr>\n",
       "    <tr>\n",
       "      <th>Vehicle Second Impact Location</th>\n",
       "      <td>256</td>\n",
       "    </tr>\n",
       "    <tr>\n",
       "      <th>Vehicle First Impact Location</th>\n",
       "      <td>156</td>\n",
       "    </tr>\n",
       "    <tr>\n",
       "      <th>Vehicle Model</th>\n",
       "      <td>66</td>\n",
       "    </tr>\n",
       "    <tr>\n",
       "      <th>Vehicle Make</th>\n",
       "      <td>24</td>\n",
       "    </tr>\n",
       "  </tbody>\n",
       "</table>\n",
       "</div>"
      ],
      "text/plain": [
       "                                     0\n",
       "Non-Motorist Substance Abuse    167788\n",
       "Circumstance                    140746\n",
       "Equipment Problems               34141\n",
       "Driver Substance Abuse           31324\n",
       "Traffic Control                  25469\n",
       "Surface Condition                20118\n",
       "Route Type                       16973\n",
       "Weather                          13354\n",
       "Drivers License State             9950\n",
       "Vehicle Going Dir                 2689\n",
       "Vehicle Continuing Dir            2689\n",
       "Vehicle Body Type                 2649\n",
       "Light                             1445\n",
       "Collision Type                     585\n",
       "Vehicle Movement                   386\n",
       "Vehicle Damage Extent              316\n",
       "Vehicle Second Impact Location     256\n",
       "Vehicle First Impact Location      156\n",
       "Vehicle Model                       66\n",
       "Vehicle Make                        24"
      ]
     },
     "execution_count": 6,
     "metadata": {},
     "output_type": "execute_result"
    }
   ],
   "source": [
    "missed = data.isnull().sum().sort_values(ascending=False).to_frame()\n",
    "missed[missed[0]>0]"
   ]
  },
  {
   "cell_type": "code",
   "execution_count": 203,
   "metadata": {
    "tags": []
   },
   "outputs": [
    {
     "data": {
      "text/plain": [
       "(167123, 26)"
      ]
     },
     "execution_count": 203,
     "metadata": {},
     "output_type": "execute_result"
    }
   ],
   "source": [
    "clean_data = data.copy()\n",
    "\n",
    "clean_data[\"Non-Motorist Substance Abuse\"].fillna(\"NONE DETECTED\", inplace = True)\n",
    "clean_data[[\"Circumstance\", \"Equipment Problems\", \"Traffic Control\", \"Weather\", \"Collision Type\"]] = clean_data[[\"Circumstance\", \"Equipment Problems\", \"Traffic Control\", \"Weather\", \"Collision Type\"]].fillna(\"N/A\")\n",
    "clean_data[\"Driver Substance Abuse\"].fillna(\"NONE DETECTED\", inplace = True)\n",
    "clean_data[\"Surface Condition\"].fillna(\"DRY\", inplace = True)\n",
    "clean_data.drop([\"Route Type\", \"Drivers License State\"], axis=1, inplace = True)\n",
    "vg_mostf = clean_data[\"Vehicle Going Dir\"].value_counts().index[0]\n",
    "vc_mostf = clean_data[\"Vehicle Continuing Dir\"].value_counts().index[0]\n",
    "clean_data[\"Vehicle Going Dir\"].replace(\"Unknown\", vg_mostf, inplace = True)\n",
    "clean_data[\"Vehicle Going Dir\"].fillna(vg_mostf, inplace = True)\n",
    "clean_data[\"Vehicle Continuing Dir\"].replace(\"Unknown\", vc_mostf, inplace = True)\n",
    "clean_data[\"Vehicle Continuing Dir\"].fillna(vc_mostf, inplace = True)\n",
    "clean_data.dropna(subset=[\"Vehicle Body Type\", \"Vehicle Body Type\", \"Light\", \"Vehicle Movement\", \"Vehicle Damage Extent\", \"Vehicle Second Impact Location\", \"Vehicle First Impact Location\", \"Vehicle Model\", \"Vehicle Make\"], inplace = True)\n",
    "\n",
    "# replace missed speed limit with mean value\n",
    "clean_data[\"Speed Limit\"].replace(0, clean_data[\"Speed Limit\"].mean())\n",
    "\n",
    "clean_data.shape"
   ]
  },
  {
   "cell_type": "code",
   "execution_count": 204,
   "metadata": {
    "tags": []
   },
   "outputs": [],
   "source": [
    "# let's extract crash hour from datetime column\n",
    "clean_data['Crash Date/Time'] = pd.to_datetime(clean_data['Crash Date/Time'])\n",
    "clean_data['Hour'] = clean_data['Crash Date/Time'].dt.hour"
   ]
  },
  {
   "cell_type": "code",
   "execution_count": 205,
   "metadata": {
    "tags": []
   },
   "outputs": [
    {
     "data": {
      "text/plain": [
       "(167123, 17)"
      ]
     },
     "execution_count": 205,
     "metadata": {},
     "output_type": "execute_result"
    }
   ],
   "source": [
    "# Get rid of irrelevant columns to decrease dimensionality\n",
    "clean_data.drop(['Collision Type', 'Crash Date/Time', 'Injury Severity', 'Circumstance', 'Vehicle Model', 'Vehicle Make', 'Vehicle Damage Extent', 'Vehicle First Impact Location', 'Vehicle Second Impact Location', 'Parked Vehicle'], axis=1, inplace = True)\n",
    "clean_data.shape"
   ]
  },
  {
   "cell_type": "code",
   "execution_count": 206,
   "metadata": {
    "tags": []
   },
   "outputs": [
    {
     "data": {
      "text/plain": [
       "Index(['Speed Limit', 'Vehicle Year', 'Hour',\n",
       "       'Weather_BLOWING SAND, SOIL, DIRT', 'Weather_BLOWING SNOW',\n",
       "       'Weather_CLEAR', 'Weather_CLOUDY', 'Weather_FOGGY', 'Weather_N/A',\n",
       "       'Weather_OTHER',\n",
       "       ...\n",
       "       'Equipment Problems_BELT(S) MISUSED',\n",
       "       'Equipment Problems_BELTS/ANCHORS BROKE',\n",
       "       'Equipment Problems_FACING WRONG WAY', 'Equipment Problems_N/A',\n",
       "       'Equipment Problems_NO MISUSE', 'Equipment Problems_NOT STREPPED RIGHT',\n",
       "       'Equipment Problems_OTHER', 'Equipment Problems_SIZE/TYPE IMPROPER',\n",
       "       'Equipment Problems_STRAP/TETHER LOOSE', 'Equipment Problems_UNKNOWN'],\n",
       "      dtype='object', length=167)"
      ]
     },
     "execution_count": 206,
     "metadata": {},
     "output_type": "execute_result"
    }
   ],
   "source": [
    "# Now let's encode categorical values\n",
    "encode_cols = clean_data.dtypes[clean_data.dtypes == object].index.tolist() \n",
    "\n",
    "cat_data = pd.get_dummies(data=clean_data, columns = encode_cols)\n",
    "cat_data['Hour'] = clean_data['Hour']\n",
    "cat_data['Vehicle Year'] = clean_data['Vehicle Year']\n",
    "cat_data.columns"
   ]
  },
  {
   "cell_type": "code",
   "execution_count": 207,
   "metadata": {
    "tags": []
   },
   "outputs": [],
   "source": [
    "# In thsi step I'll split dataset into dependent and independent variables\n",
    "y = cat_data['Speed Limit']\n",
    "x = cat_data.drop(['Speed Limit'], axis=1)"
   ]
  },
  {
   "cell_type": "code",
   "execution_count": 200,
   "metadata": {
    "tags": []
   },
   "outputs": [
    {
     "name": "stderr",
     "output_type": "stream",
     "text": [
      "/home/jupyterlab/conda/envs/python/lib/python3.7/site-packages/sklearn/preprocessing/data.py:625: DataConversionWarning: Data with input dtype uint8, int64 were all converted to float64 by StandardScaler.\n",
      "  return self.partial_fit(X, y)\n",
      "/home/jupyterlab/conda/envs/python/lib/python3.7/site-packages/sklearn/base.py:462: DataConversionWarning: Data with input dtype uint8, int64 were all converted to float64 by StandardScaler.\n",
      "  return self.fit(X, **fit_params).transform(X)\n"
     ]
    },
    {
     "data": {
      "text/plain": [
       "137"
      ]
     },
     "execution_count": 200,
     "metadata": {},
     "output_type": "execute_result"
    }
   ],
   "source": [
    "# Let's see how many resulting features are really add variance up to 95%\n",
    "pca = PCA()\n",
    "x = StandardScaler().fit_transform(x)\n",
    "pca.fit(x)\n",
    "cumsum = np.cumsum(pca.explained_variance_ratio_)\n",
    "feat_num = np.argmax(cumsum >=0.95) + 1\n",
    "feat_num"
   ]
  },
  {
   "cell_type": "code",
   "execution_count": 201,
   "metadata": {
    "tags": []
   },
   "outputs": [
    {
     "data": {
      "text/plain": [
       "['Speed Limit',\n",
       " 'Vehicle Movement_BACKING',\n",
       " 'Traffic Control_TRAFFIC SIGNAL',\n",
       " 'Vehicle Movement_PARKED',\n",
       " 'Vehicle Movement_PARKING',\n",
       " 'Vehicle Movement_STARTING FROM PARKED',\n",
       " 'Driver Substance Abuse_UNKNOWN',\n",
       " 'Traffic Control_N/A',\n",
       " 'Vehicle Movement_SLOWING OR STOPPING',\n",
       " 'Vehicle Movement_MOVING CONSTANT SPEED',\n",
       " 'Driver At Fault_No',\n",
       " 'Driver Substance Abuse_NONE DETECTED',\n",
       " 'Equipment Problems_UNKNOWN',\n",
       " 'Driver At Fault_Yes',\n",
       " 'Equipment Problems_NO MISUSE',\n",
       " 'Surface Condition_WET',\n",
       " 'Surface Condition_DRY',\n",
       " 'Driver Distracted By_NOT DISTRACTED',\n",
       " 'Traffic Control_NO CONTROLS',\n",
       " 'Vehicle Continuing Dir_North',\n",
       " 'Vehicle Going Dir_North',\n",
       " 'Vehicle Body Type_SCHOOL BUS',\n",
       " 'Vehicle Going Dir_South',\n",
       " 'Vehicle Continuing Dir_South',\n",
       " 'Driver Distracted By_UNKNOWN',\n",
       " 'Light_UNKNOWN',\n",
       " 'Traffic Control_STOP SIGN',\n",
       " 'Vehicle Movement_CHANGING LANES',\n",
       " 'Vehicle Movement_OTHER',\n",
       " 'Vehicle Movement_STOPPED IN TRAFFIC LANE',\n",
       " 'Weather_UNKNOWN',\n",
       " 'Vehicle Body Type_PASSENGER CAR',\n",
       " 'Driver Distracted By_LOOKED BUT DID NOT SEE',\n",
       " 'Vehicle Movement_ACCELERATING',\n",
       " 'Equipment Problems_N/A',\n",
       " 'Vehicle Movement_UNKNOWN',\n",
       " 'Vehicle Body Type_POLICE VEHICLE/NON EMERGENCY',\n",
       " 'Driverless Vehicle_Unknown',\n",
       " 'Driverless Vehicle_No',\n",
       " 'Vehicle Body Type_FIRE VEHICLE/NON EMERGENCY',\n",
       " 'Weather_RAINING',\n",
       " 'Vehicle Movement_PASSING',\n",
       " 'Light_DAYLIGHT',\n",
       " 'Traffic Control_FLASHING TRAFFIC SIGNAL',\n",
       " 'Vehicle Body Type_FIRE VEHICLE/EMERGENCY',\n",
       " 'Light_DARK NO LIGHTS',\n",
       " 'Driver Distracted By_NO DRIVER PRESENT',\n",
       " 'Vehicle Movement_MAKING RIGHT TURN',\n",
       " 'Light_DARK LIGHTS ON',\n",
       " 'Light_DAWN',\n",
       " 'Weather_N/A',\n",
       " 'Vehicle Body Type_UNKNOWN',\n",
       " 'Vehicle Movement_MAKING LEFT TURN',\n",
       " 'Light_OTHER',\n",
       " 'Vehicle Body Type_AMBULANCE/NON EMERGENCY',\n",
       " 'Traffic Control_UNKNOWN',\n",
       " 'Vehicle Year',\n",
       " 'Vehicle Body Type_POLICE VEHICLE/EMERGENCY',\n",
       " 'Driver At Fault_Unknown',\n",
       " 'Vehicle Movement_DRIVERLESS MOVING VEH.',\n",
       " 'Vehicle Body Type_MOTORCYCLE',\n",
       " 'Vehicle Continuing Dir_West',\n",
       " 'Driver Substance Abuse_ALCOHOL PRESENT',\n",
       " 'Vehicle Body Type_AMBULANCE/EMERGENCY',\n",
       " 'Vehicle Body Type_(SPORT) UTILITY VEHICLE',\n",
       " 'Vehicle Body Type_OTHER',\n",
       " 'Surface Condition_UNKNOWN',\n",
       " 'Vehicle Movement_SKIDDING',\n",
       " 'Surface Condition_WATER(STANDING/MOVING)',\n",
       " 'Vehicle Body Type_TRANSIT BUS',\n",
       " 'Surface Condition_ICE',\n",
       " 'Vehicle Body Type_CARGO VAN/LIGHT TRUCK 2 AXLES (OVER 10,000LBS (4,536 KG))',\n",
       " 'Hour',\n",
       " 'Weather_FOGGY',\n",
       " 'Vehicle Body Type_OTHER BUS',\n",
       " 'Driver Substance Abuse_ALCOHOL CONTRIBUTED',\n",
       " 'Vehicle Movement_NEGOTIATING A CURVE',\n",
       " 'Surface Condition_SLUSH',\n",
       " 'Non-Motorist Substance Abuse_N/A, NONE DETECTED',\n",
       " 'Light_DARK -- UNKNOWN LIGHTING',\n",
       " 'Traffic Control_PERSON',\n",
       " 'Vehicle Going Dir_West',\n",
       " 'Light_DUSK',\n",
       " 'Vehicle Movement_MAKING U TURN',\n",
       " 'Vehicle Continuing Dir_East',\n",
       " 'Weather_SNOW',\n",
       " 'Driver Distracted By_OTHER ELECTRONIC DEVICE (NAVIGATIONAL PALM PILOT)',\n",
       " 'Vehicle Body Type_LOW SPEED VEHICLE',\n",
       " 'Vehicle Movement_RIGHT TURN ON RED',\n",
       " 'Vehicle Body Type_MEDIUM/HEAVY TRUCKS 3 AXLES (OVER 10,000LBS (4,536KG))',\n",
       " 'Weather_SEVERE WINDS',\n",
       " 'Vehicle Body Type_SNOWMOBILE',\n",
       " 'Vehicle Body Type_ALL TERRAIN VEHICLE (ATV)',\n",
       " 'Surface Condition_OIL',\n",
       " 'Driver Distracted By_ADJUSTING AUDIO AND OR CLIMATE CONTROLS',\n",
       " 'Vehicle Body Type_LIMOUSINE',\n",
       " 'Driver Substance Abuse_OTHER',\n",
       " 'Equipment Problems_AIR BAG FAILED',\n",
       " 'Vehicle Body Type_OTHER LIGHT TRUCKS (10,000LBS (4,536KG) OR LESS)',\n",
       " 'Driver Distracted By_USING OTHER DEVICE CONTROLS INTEGRAL TO VEHICLE',\n",
       " 'Driver Distracted By_BY MOVING OBJECT IN VEHICLE',\n",
       " 'Vehicle Movement_LEAVING TRAFFIC LANE',\n",
       " 'Driver Distracted By_OTHER DISTRACTION',\n",
       " 'Non-Motorist Substance Abuse_NONE DETECTED',\n",
       " 'Vehicle Body Type_FARM VEHICLE',\n",
       " 'Traffic Control_YIELD SIGN',\n",
       " 'Vehicle Body Type_CROSS COUNTRY BUS',\n",
       " 'Non-Motorist Substance Abuse_ALCOHOL PRESENT',\n",
       " 'Weather_CLEAR',\n",
       " 'Equipment Problems_BELT(S) MISUSED',\n",
       " 'Weather_OTHER',\n",
       " 'Driver Distracted By_SMOKING RELATED',\n",
       " 'Vehicle Movement_ENTERING TRAFFIC LANE',\n",
       " 'Non-Motorist Substance Abuse_ALCOHOL PRESENT, NONE DETECTED',\n",
       " 'Weather_WINTRY MIX',\n",
       " 'Weather_SLEET',\n",
       " 'Driver Distracted By_TEXTING FROM A CELLULAR PHONE',\n",
       " 'Driver Distracted By_EATING OR DRINKING',\n",
       " 'Driver Distracted By_TALKING OR LISTENING TO CELLULAR PHONE',\n",
       " 'Equipment Problems_STRAP/TETHER LOOSE',\n",
       " 'Traffic Control_RAILWAY CROSSING DEVICE',\n",
       " 'Surface Condition_MUD, DIRT, GRAVEL',\n",
       " 'Driver Distracted By_INATTENTIVE OR LOST IN THOUGHT',\n",
       " 'Vehicle Body Type_VAN',\n",
       " 'Non-Motorist Substance Abuse_ALCOHOL CONTRIBUTED',\n",
       " 'Vehicle Body Type_TRUCK TRACTOR',\n",
       " 'Equipment Problems_FACING WRONG WAY',\n",
       " 'Weather_CLOUDY',\n",
       " 'Driver Substance Abuse_MEDICATION CONTRIBUTED',\n",
       " 'Driver Substance Abuse_COMBINATION CONTRIBUTED',\n",
       " 'Traffic Control_WARNING SIGN',\n",
       " 'Surface Condition_SAND',\n",
       " 'Driver Distracted By_OTHER CELLULAR PHONE RELATED',\n",
       " 'Equipment Problems_OTHER',\n",
       " 'Driver Distracted By_BY OTHER OCCUPANTS',\n",
       " 'Driver Substance Abuse_COMBINED SUBSTANCE PRESENT',\n",
       " 'Traffic Control_SCHOOL ZONE SIGN DEVICE']"
      ]
     },
     "execution_count": 201,
     "metadata": {},
     "output_type": "execute_result"
    }
   ],
   "source": [
    "# Next I'll take those most correlated features for the model\n",
    "features = cat_data.corr()['Speed Limit'].abs().sort_values(ascending=False)\n",
    "rel_features = features.head(feat_num).index.tolist() \n",
    "rel_features"
   ]
  },
  {
   "cell_type": "code",
   "execution_count": 209,
   "metadata": {
    "tags": []
   },
   "outputs": [
    {
     "data": {
      "text/plain": [
       "<AxesSubplot:>"
      ]
     },
     "execution_count": 209,
     "metadata": {},
     "output_type": "execute_result"
    },
    {
     "data": {
      "image/png": "[encoded data removed]",
      "text/plain": [
       "<Figure size 640x480 with 2 Axes>"
      ]
     },
     "metadata": {},
     "output_type": "display_data"
    }
   ],
   "source": [
    "# Plot a heatmap for 10 most correlated features\n",
    "sns.heatmap(cat_data[rel_features[0:10]].corr(),annot=True,cmap='RdYlGn')"
   ]
  },
  {
   "cell_type": "markdown",
   "metadata": {},
   "source": [
    "### Brief summary of data exploration"
   ]
  },
  {
   "cell_type": "markdown",
   "metadata": {
    "tags": []
   },
   "source": [
    "After dealing with missing values, dataset features count increased to 167 items.\n",
    "\n",
    "To avoid overfitting I redused those dimensions using PCA module, which left 136 most relevant independent (and one dependent) features describing 95% of dataset variance"
   ]
  },
  {
   "cell_type": "code",
   "execution_count": 210,
   "metadata": {
    "tags": []
   },
   "outputs": [
    {
     "data": {
      "text/plain": [
       "(167123, 137)"
      ]
     },
     "execution_count": 210,
     "metadata": {},
     "output_type": "execute_result"
    }
   ],
   "source": [
    "sel_data = cat_data[rel_features]\n",
    "sel_data.shape"
   ]
  },
  {
   "cell_type": "code",
   "execution_count": 211,
   "metadata": {
    "tags": []
   },
   "outputs": [
    {
     "name": "stderr",
     "output_type": "stream",
     "text": [
      "/home/jupyterlab/conda/envs/python/lib/python3.7/site-packages/sklearn/preprocessing/data.py:625: DataConversionWarning: Data with input dtype uint8, int64 were all converted to float64 by StandardScaler.\n",
      "  return self.partial_fit(X, y)\n",
      "/home/jupyterlab/conda/envs/python/lib/python3.7/site-packages/sklearn/base.py:462: DataConversionWarning: Data with input dtype uint8, int64 were all converted to float64 by StandardScaler.\n",
      "  return self.fit(X, **fit_params).transform(X)\n"
     ]
    }
   ],
   "source": [
    "# Finally, let's split resulting dataset\n",
    "y = sel_data['Speed Limit']\n",
    "x = sel_data.drop(['Speed Limit'], axis=1)\n",
    "\n",
    "x = StandardScaler().fit_transform(x)\n",
    "X_train, X_test, y_train, y_test = train_test_split(x, y, test_size=0.1)"
   ]
  },
  {
   "cell_type": "code",
   "execution_count": 213,
   "metadata": {
    "tags": []
   },
   "outputs": [
    {
     "name": "stderr",
     "output_type": "stream",
     "text": [
      "/home/jupyterlab/conda/envs/python/lib/python3.7/site-packages/sklearn/linear_model/coordinate_descent.py:492: ConvergenceWarning: Objective did not converge. You might want to increase the number of iterations. Fitting data with very small alpha may cause precision problems.\n",
      "  ConvergenceWarning)\n"
     ]
    },
    {
     "data": {
      "text/plain": [
       "Lasso(alpha=0.0001, copy_X=True, fit_intercept=True, max_iter=1000,\n",
       "   normalize=False, positive=False, precompute=False, random_state=None,\n",
       "   selection='cyclic', tol=0.0001, warm_start=False)"
      ]
     },
     "execution_count": 213,
     "metadata": {},
     "output_type": "execute_result"
    }
   ],
   "source": [
    "# Let's create our model using Lasso regression\n",
    "las = Lasso(alpha = 0.0001)\n",
    "las.fit(X_train, y_train)"
   ]
  },
  {
   "cell_type": "code",
   "execution_count": 214,
   "metadata": {
    "tags": []
   },
   "outputs": [
    {
     "data": {
      "text/plain": [
       "0.303495257314256"
      ]
     },
     "execution_count": 214,
     "metadata": {},
     "output_type": "execute_result"
    }
   ],
   "source": [
    "y_pred = las.predict(X_test)\n",
    "lscore = r2_score(y_test, y_pred)\n",
    "lscore"
   ]
  },
  {
   "cell_type": "code",
   "execution_count": 215,
   "metadata": {
    "tags": []
   },
   "outputs": [
    {
     "data": {
      "text/plain": [
       "Ridge(alpha=0.001, copy_X=True, fit_intercept=True, max_iter=None,\n",
       "   normalize=False, random_state=None, solver='auto', tol=0.001)"
      ]
     },
     "execution_count": 215,
     "metadata": {},
     "output_type": "execute_result"
    }
   ],
   "source": [
    "# Now let's try same with Ridge regression\n",
    "rid = Ridge(alpha = 0.001)\n",
    "rid.fit(X_train, y_train)"
   ]
  },
  {
   "cell_type": "code",
   "execution_count": 216,
   "metadata": {
    "tags": []
   },
   "outputs": [
    {
     "data": {
      "text/plain": [
       "0.3034992929682614"
      ]
     },
     "execution_count": 216,
     "metadata": {},
     "output_type": "execute_result"
    }
   ],
   "source": [
    "y_pred = rid.predict(X_test)\n",
    "rscore = r2_score(y_test, y_pred)\n",
    "rscore"
   ]
  },
  {
   "cell_type": "code",
   "execution_count": 226,
   "metadata": {
    "tags": []
   },
   "outputs": [
    {
     "data": {
      "text/plain": [
       "LinearRegression(copy_X=True, fit_intercept=True, n_jobs=None,\n",
       "         normalize=False)"
      ]
     },
     "execution_count": 226,
     "metadata": {},
     "output_type": "execute_result"
    }
   ],
   "source": [
    "# Third one will be Linear Regression from sklearn module\n",
    "lr = LinearRegression()\n",
    "lr.fit(X_train, y_train)"
   ]
  },
  {
   "cell_type": "code",
   "execution_count": 227,
   "metadata": {
    "tags": []
   },
   "outputs": [
    {
     "data": {
      "text/plain": [
       "0.30351872615436126"
      ]
     },
     "execution_count": 227,
     "metadata": {},
     "output_type": "execute_result"
    }
   ],
   "source": [
    "y_pred = lr.predict(X_test)\n",
    "lrscore = r2_score(y_test, y_pred)\n",
    "lrscore"
   ]
  },
  {
   "cell_type": "code",
   "execution_count": 231,
   "metadata": {
    "tags": []
   },
   "outputs": [
    {
     "data": {
      "text/plain": [
       "(0.3034, 0.3036)"
      ]
     },
     "execution_count": 231,
     "metadata": {},
     "output_type": "execute_result"
    },
    {
     "data": {
      "image/png": "[encoded data removed]",
      "text/plain": [
       "<Figure size 640x480 with 1 Axes>"
      ]
     },
     "metadata": {},
     "output_type": "display_data"
    }
   ],
   "source": [
    "# Plot Lasso and Ridge scores\n",
    "rs = pd.DataFrame([lscore, rscore,lrscore])\n",
    "rs.index = ['Lasso R2', 'Ridge R2', 'Linear regression']\n",
    "ax = rs.plot(kind='bar', legend=False, label=0)\n",
    "ax.set_ylim(0.3034,0.3036)"
   ]
  },
  {
   "cell_type": "markdown",
   "metadata": {},
   "source": [
    "### Summary of training"
   ]
  },
  {
   "cell_type": "markdown",
   "metadata": {
    "tags": []
   },
   "source": [
    "As we see both Lasso and Ridge regressions give almost same determination coeff R-squared ~0.3. Linear regression performs slightly better, but this difference is not significant."
   ]
  },
  {
   "cell_type": "markdown",
   "metadata": {},
   "source": [
    "Though regression R2 values are not ideal for all three of them, those are still have statistical significance above random noise level. Using any of models we can do:\n",
    "1. Find most relevant features which correlated with the crash at given speed limit\n",
    "2. Predict speed limit at which car crash could occur while certain conditions are met"
   ]
  },
  {
   "cell_type": "markdown",
   "metadata": {},
   "source": [
    "### Recommend model"
   ]
  },
  {
   "cell_type": "markdown",
   "metadata": {},
   "source": [
    "Honestly, all three models give similar results, thus, any of them could be used. Bus since Linear Regression has shown best results of all, I'll recommend using it.\n",
    "It can explain impact of all its features and has meaningful order of them, as we'll see below."
   ]
  },
  {
   "cell_type": "markdown",
   "metadata": {},
   "source": [
    "# 4. Insights and key findings\n"
   ]
  },
  {
   "cell_type": "code",
   "execution_count": 221,
   "metadata": {
    "tags": []
   },
   "outputs": [
    {
     "name": "stdout",
     "output_type": "stream",
     "text": [
      "['Vehicle Movement_BACKING', 'Traffic Control_TRAFFIC SIGNAL', 'Vehicle Movement_PARKED']\n"
     ]
    }
   ],
   "source": [
    "# Here are 3 most significant conditions which accumulate probability of crar crash if met\n",
    "print(rel_features[1:4])"
   ]
  },
  {
   "cell_type": "markdown",
   "metadata": {},
   "source": [
    "As we can see, most relevant features regarding car crashes are: vehicle moving backward, traffic signal violation and damage of parked cars. All those make sense and give certain amount of prediction of speed limit at which said features will result in car crash.\n",
    "\n",
    "Also, though day time intuitively seems relevant to car crash probability (I expected that more crashes on higher speed limit would occur at night) it is not as significant as expected among other features."
   ]
  },
  {
   "cell_type": "code",
   "execution_count": 222,
   "metadata": {
    "tags": []
   },
   "outputs": [
    {
     "name": "stdout",
     "output_type": "stream",
     "text": [
      "Day time significance is 72 out of 137.\n"
     ]
    }
   ],
   "source": [
    "print (\"Day time significance is {0} out of {1}.\".format(rel_features.index('Hour'), np.size(rel_features)))"
   ]
  },
  {
   "cell_type": "markdown",
   "metadata": {},
   "source": [
    "# 5. Next Steps\n"
   ]
  },
  {
   "cell_type": "markdown",
   "metadata": {},
   "source": [
    "At next step it might be useful to utilize date values by categorizing it to 'Weekend'/'Non-weekend' or 'Holiday'/'Non-holiday' categories. Also, it might be useful to see whether columns which were excluded as non-relevant by bias, contain significant data or not."
   ]
  },
  {
   "cell_type": "markdown",
   "metadata": {
    "tags": []
   },
   "source": [
    "Although, dataset contains enough rows to estimate features degree of freedom as statistically significant, it might be useful to collect and add up more recent data and reevaluate the model after some time."
   ]
  },
  {
   "cell_type": "markdown",
   "metadata": {},
   "source": [
    "## <h3 align=\"center\"> © IBM Corporation 2020. All rights reserved. <h3/>\n"
   ]
  }
 ],
 "metadata": {
  "kernelspec": {
   "display_name": "Python",
   "language": "python",
   "name": "conda-env-python-py"
  },
  "language_info": {
   "codemirror_mode": {
    "name": "ipython",
    "version": 3
   },
   "file_extension": ".py",
   "mimetype": "text/x-python",
   "name": "python",
   "nbconvert_exporter": "python",
   "pygments_lexer": "ipython3",
   "version": "3.7.12"
  }
 },
 "nbformat": 4,
 "nbformat_minor": 4
}
