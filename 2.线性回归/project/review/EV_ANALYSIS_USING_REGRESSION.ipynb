{
 "cells": [
  {
   "cell_type": "markdown",
   "metadata": {},
   "source": [
    "<p style=\"text-align:center\">\n",
    "    <a href=\"https://skills.network/?utm_medium=Exinfluencer&utm_source=Exinfluencer&utm_content=000026UJ&utm_term=10006555&utm_id=NA-SkillsNetwork-Channel-SkillsNetworkCoursesIBMDeveloperSkillsNetworkML0101ENSkillsNetwork20718538-2022-01-01\">\n",
    "    <img src=\"https://cf-courses-data.s3.us.cloud-object-storage.appdomain.cloud/assets/logos/SN_web_lightmode.png\" width=\"200\" alt=\"Skills Network Logo\"  />\n",
    "    </a>\n",
    "</p>\n",
    "\n",
    "<h1 align=\"center\"><font size=\"5\">Supervised Machine Learning: Regression - Final Assignment</font></h1>\n"
   ]
  },
  {
   "cell_type": "markdown",
   "metadata": {},
   "source": [
    "## Instructions:\n",
    "\n",
    "In this Assignment, you will demonstrate the data regression skills you have learned by completing this course. You are expected to leverage a wide variety of tools, but also this report should focus on present findings, insights, and next steps. You may include some visuals from your code output, but this report is intended as a summary of your findings, not as a code review. \n",
    "\n",
    "The grading will center around 5 main points:\n",
    "\n",
    "1. Does the report include a section describing the data?\n",
    "2. Does the report include a paragraph detailing the main objective(s) of this analysis? \n",
    "3. Does the report include a section with variations of linear regression models and specifies which one is the model that best suits the main objective(s) of this analysis.\n",
    "4. Does the report include a clear and well-presented section with key findings related to the main objective(s) of the analysis?\n",
    "5. Does the report highlight possible flaws in the model and a plan of action to revisit this analysis with additional data or different predictive modeling techniques? \n",
    "\n",
    "\n"
   ]
  },
  {
   "cell_type": "markdown",
   "metadata": {},
   "source": [
    "## Import the required libraries\n"
   ]
  },
  {
   "cell_type": "markdown",
   "metadata": {},
   "source": [
    "The following required modules are pre-installed in the Skills Network Labs environment. However if you run this notebook commands in a different Jupyter environment (e.g. Watson Studio or Ananconda) you will need to install these libraries by removing the `#` sign before `!mamba` in the code cell below.\n"
   ]
  },
  {
   "cell_type": "code",
   "execution_count": 1,
   "metadata": {},
   "outputs": [],
   "source": [
    "# All Libraries required for this lab are listed below. The libraries pre-installed on Skills Network Labs are commented.\n",
    "# !mamba install -qy pandas==1.3.4 numpy==1.21.4 seaborn==0.9.0 matplotlib==3.5.0 scikit-learn==0.20.1\n",
    "# Note: If your environment doesn't support \"!mamba install\", use \"!pip install\""
   ]
  },
  {
   "cell_type": "code",
   "execution_count": 2,
   "metadata": {},
   "outputs": [],
   "source": [
    "import pandas as pd\n",
    "import numpy as np"
   ]
  },
  {
   "cell_type": "markdown",
   "metadata": {},
   "source": [
    "## Importing the Dataset\n"
   ]
  },
  {
   "cell_type": "markdown",
   "metadata": {},
   "source": [
    "Before you begin, you will need to choose a data set that you feel passionate about. You can brainstorm with your peers about great public data sets using the discussion board in this module.\n"
   ]
  },
  {
   "cell_type": "markdown",
   "metadata": {},
   "source": [
    "Read your chosen dataset into pandas dataframe:\n"
   ]
  },
  {
   "cell_type": "code",
   "execution_count": 105,
   "metadata": {},
   "outputs": [],
   "source": [
    "data = pd.read_csv('Electric_Vehicle_Population_Data.csv')"
   ]
  },
  {
   "cell_type": "markdown",
   "metadata": {},
   "source": [
    "Once you have selected a data set, you will produce the deliverables listed below and submit them to one of your peers for review. Treat this exercise as an opportunity to produce analysis that are ready to highlight your analytical skills for a senior audience, for example, the Chief Data Officer, or the Head of Analytics at your company.\n",
    "Sections required in your report:\n",
    "\n",
    "*   Main objective of the analysis that specifies whether your model will be focused on prediction or interpretation.\n",
    "*   Brief description of the data set you chose and a summary of its attributes.\n",
    "*   Brief summary of data exploration and actions taken for data cleaning and feature engineering.\n",
    "*   Summary of training at least three linear regression models which should be variations that cover using a simple  linear regression as a baseline, adding polynomial effects, and using a regularization regression. Preferably, all use the same training and test splits, or the same cross-validation method.\n",
    "*  A paragraph explaining which of your regressions you recommend as a final model that best fits your needs in terms of accuracy and explainability.\n",
    "*  Summary Key Findings and Insights, which walks your reader through the main drivers of your model and insights from your data derived from your linear regression model.\n",
    "*  Suggestions for next steps in analyzing this data, which may include suggesting revisiting this model adding specific data features to achieve a better explanation or a better prediction.\n"
   ]
  },
  {
   "cell_type": "markdown",
   "metadata": {},
   "source": [
    "# 1. About the Data\n"
   ]
  },
  {
   "cell_type": "markdown",
   "metadata": {},
   "source": [
    "The dataset provides information on Battery Electric Vehicles (BEVs) and Plug-in Hybrid Electric Vehicles (PHEVs) registered through the Washington State Department of Licensing (DOL). Here's a summary of the columns:\n",
    "\n",
    "1. VIN (1-10): Vehicle Identification Number.\n",
    "2. County: County where the vehicle is registered.\n",
    "3. City: City where the vehicle is registered.\n",
    "4. State: State where the vehicle is registered.\n",
    "5. Postal Code: Postal code of the registration location.\n",
    "6. Model Year: The year the vehicle model was manufactured.\n",
    "7. Make: The manufacturer of the vehicle.\n",
    "8. Model: The model of the vehicle.\n",
    "9. Electric Vehicle Type: Specifies whether the vehicle is a Battery Electric Vehicle (BEV) or a Plug-in Hybrid Electric Vehicle (PHEV).\n",
    "10. Clean Alternative Fuel Vehicle (CAFV) Eligibility: Indicates if the vehicle is eligible for Clean Alternative Fuel Vehicle status.\n",
    "11. Electric Range: The range the vehicle can travel on electric power alone.\n",
    "12. Base MSRP: Manufacturer's suggested retail price for the vehicle.\n",
    "13. Legislative District: Legislative district where the vehicle is registered.\n",
    "14. DOL Vehicle ID: Unique identifier assigned by the Department of Licensing.\n",
    "15. Vehicle Location: Location of the vehicle.\n",
    "16. Electric Utility: The utility company providing electricity to the vehicle's location.\n",
    "17. 2020 Census Tract: Census tract of the vehicle's location as of the 2020 Census."
   ]
  },
  {
   "cell_type": "code",
   "execution_count": 4,
   "metadata": {},
   "outputs": [
    {
     "name": "stdout",
     "output_type": "stream",
     "text": [
      "<class 'pandas.core.frame.DataFrame'>\n",
      "RangeIndex: 34837 entries, 0 to 34836\n",
      "Data columns (total 17 columns):\n",
      " #   Column                                             Non-Null Count  Dtype  \n",
      "---  ------                                             --------------  -----  \n",
      " 0   VIN (1-10)                                         34837 non-null  object \n",
      " 1   County                                             34837 non-null  object \n",
      " 2   City                                               34837 non-null  object \n",
      " 3   State                                              34837 non-null  object \n",
      " 4   Postal Code                                        34837 non-null  int64  \n",
      " 5   Model Year                                         34837 non-null  int64  \n",
      " 6   Make                                               34836 non-null  object \n",
      " 7   Model                                              34836 non-null  object \n",
      " 8   Electric Vehicle Type                              34836 non-null  object \n",
      " 9   Clean Alternative Fuel Vehicle (CAFV) Eligibility  34836 non-null  object \n",
      " 10  Electric Range                                     34836 non-null  float64\n",
      " 11  Base MSRP                                          34836 non-null  float64\n",
      " 12  Legislative District                               34836 non-null  float64\n",
      " 13  DOL Vehicle ID                                     34836 non-null  float64\n",
      " 14  Vehicle Location                                   34836 non-null  object \n",
      " 15  Electric Utility                                   34836 non-null  object \n",
      " 16  2020 Census Tract                                  34836 non-null  float64\n",
      "dtypes: float64(5), int64(2), object(10)\n",
      "memory usage: 4.5+ MB\n"
     ]
    }
   ],
   "source": [
    "data.info()"
   ]
  },
  {
   "cell_type": "code",
   "execution_count": 5,
   "metadata": {},
   "outputs": [
    {
     "data": {
      "text/plain": [
       "Index(['VIN (1-10)', 'County', 'City', 'State', 'Postal Code', 'Model Year',\n",
       "       'Make', 'Model', 'Electric Vehicle Type',\n",
       "       'Clean Alternative Fuel Vehicle (CAFV) Eligibility', 'Electric Range',\n",
       "       'Base MSRP', 'Legislative District', 'DOL Vehicle ID',\n",
       "       'Vehicle Location', 'Electric Utility', '2020 Census Tract'],\n",
       "      dtype='object')"
      ]
     },
     "execution_count": 5,
     "metadata": {},
     "output_type": "execute_result"
    }
   ],
   "source": [
    "data.columns"
   ]
  },
  {
   "cell_type": "code",
   "execution_count": 6,
   "metadata": {},
   "outputs": [
    {
     "data": {
      "text/plain": [
       "VIN (1-10)                                           0\n",
       "County                                               0\n",
       "City                                                 0\n",
       "State                                                0\n",
       "Postal Code                                          0\n",
       "Model Year                                           0\n",
       "Make                                                 1\n",
       "Model                                                1\n",
       "Electric Vehicle Type                                1\n",
       "Clean Alternative Fuel Vehicle (CAFV) Eligibility    1\n",
       "Electric Range                                       1\n",
       "Base MSRP                                            1\n",
       "Legislative District                                 1\n",
       "DOL Vehicle ID                                       1\n",
       "Vehicle Location                                     1\n",
       "Electric Utility                                     1\n",
       "2020 Census Tract                                    1\n",
       "dtype: int64"
      ]
     },
     "execution_count": 6,
     "metadata": {},
     "output_type": "execute_result"
    }
   ],
   "source": [
    "data.isnull().sum()"
   ]
  },
  {
   "cell_type": "markdown",
   "metadata": {},
   "source": [
    "# 2. Objectives\n"
   ]
  },
  {
   "cell_type": "markdown",
   "metadata": {},
   "source": [
    "The main objective of this analysis is interpretation rather than prediction. We aim to understand the factors influencing the electric vehicle market, particularly in terms of their registration patterns, including the effects of attributes like model year, make, range, and location on their registration counts."
   ]
  },
  {
   "cell_type": "markdown",
   "metadata": {},
   "source": [
    "#### Data Cleaning and Exploration"
   ]
  },
  {
   "cell_type": "code",
   "execution_count": 7,
   "metadata": {},
   "outputs": [],
   "source": [
    "# Drop rows with null values \n",
    "data = data.dropna(subset=['Make', 'Model', 'Electric Vehicle Type', \n",
    "                                       'Clean Alternative Fuel Vehicle (CAFV) Eligibility', 'Electric Range', 'Base MSRP',\n",
    "                                       'Legislative District', 'DOL Vehicle ID', 'Vehicle Location',\n",
    "                                          'Electric Utility', '2020 Census Tract'])"
   ]
  },
  {
   "cell_type": "code",
   "execution_count": 8,
   "metadata": {},
   "outputs": [
    {
     "data": {
      "text/plain": [
       "VIN (1-10)                                           0\n",
       "County                                               0\n",
       "City                                                 0\n",
       "State                                                0\n",
       "Postal Code                                          0\n",
       "Model Year                                           0\n",
       "Make                                                 0\n",
       "Model                                                0\n",
       "Electric Vehicle Type                                0\n",
       "Clean Alternative Fuel Vehicle (CAFV) Eligibility    0\n",
       "Electric Range                                       0\n",
       "Base MSRP                                            0\n",
       "Legislative District                                 0\n",
       "DOL Vehicle ID                                       0\n",
       "Vehicle Location                                     0\n",
       "Electric Utility                                     0\n",
       "2020 Census Tract                                    0\n",
       "dtype: int64"
      ]
     },
     "execution_count": 8,
     "metadata": {},
     "output_type": "execute_result"
    }
   ],
   "source": [
    "data.isnull().sum()"
   ]
  },
  {
   "cell_type": "code",
   "execution_count": 9,
   "metadata": {},
   "outputs": [
    {
     "data": {
      "text/html": [
       "<div>\n",
       "<style scoped>\n",
       "    .dataframe tbody tr th:only-of-type {\n",
       "        vertical-align: middle;\n",
       "    }\n",
       "\n",
       "    .dataframe tbody tr th {\n",
       "        vertical-align: top;\n",
       "    }\n",
       "\n",
       "    .dataframe thead th {\n",
       "        text-align: right;\n",
       "    }\n",
       "</style>\n",
       "<table border=\"1\" class=\"dataframe\">\n",
       "  <thead>\n",
       "    <tr style=\"text-align: right;\">\n",
       "      <th></th>\n",
       "      <th>Postal Code</th>\n",
       "      <th>Model Year</th>\n",
       "      <th>Electric Range</th>\n",
       "      <th>Base MSRP</th>\n",
       "      <th>Legislative District</th>\n",
       "      <th>DOL Vehicle ID</th>\n",
       "      <th>2020 Census Tract</th>\n",
       "    </tr>\n",
       "  </thead>\n",
       "  <tbody>\n",
       "    <tr>\n",
       "      <th>count</th>\n",
       "      <td>34836.000000</td>\n",
       "      <td>34836.000000</td>\n",
       "      <td>34836.000000</td>\n",
       "      <td>34836.000000</td>\n",
       "      <td>34836.0000</td>\n",
       "      <td>3.483600e+04</td>\n",
       "      <td>3.483600e+04</td>\n",
       "    </tr>\n",
       "    <tr>\n",
       "      <th>mean</th>\n",
       "      <td>98176.578023</td>\n",
       "      <td>2020.628373</td>\n",
       "      <td>58.813871</td>\n",
       "      <td>1063.928694</td>\n",
       "      <td>32.0000</td>\n",
       "      <td>2.210270e+08</td>\n",
       "      <td>5.303344e+10</td>\n",
       "    </tr>\n",
       "    <tr>\n",
       "      <th>std</th>\n",
       "      <td>211.741663</td>\n",
       "      <td>2.931420</td>\n",
       "      <td>91.841390</td>\n",
       "      <td>8225.837420</td>\n",
       "      <td>14.6925</td>\n",
       "      <td>7.539077e+07</td>\n",
       "      <td>1.170438e+07</td>\n",
       "    </tr>\n",
       "    <tr>\n",
       "      <th>min</th>\n",
       "      <td>98001.000000</td>\n",
       "      <td>2000.000000</td>\n",
       "      <td>0.000000</td>\n",
       "      <td>0.000000</td>\n",
       "      <td>1.0000</td>\n",
       "      <td>2.770200e+04</td>\n",
       "      <td>5.300796e+10</td>\n",
       "    </tr>\n",
       "    <tr>\n",
       "      <th>25%</th>\n",
       "      <td>98034.000000</td>\n",
       "      <td>2019.000000</td>\n",
       "      <td>0.000000</td>\n",
       "      <td>0.000000</td>\n",
       "      <td>18.0000</td>\n",
       "      <td>1.832627e+08</td>\n",
       "      <td>5.303301e+10</td>\n",
       "    </tr>\n",
       "    <tr>\n",
       "      <th>50%</th>\n",
       "      <td>98109.000000</td>\n",
       "      <td>2022.000000</td>\n",
       "      <td>0.000000</td>\n",
       "      <td>0.000000</td>\n",
       "      <td>36.0000</td>\n",
       "      <td>2.287242e+08</td>\n",
       "      <td>5.303302e+10</td>\n",
       "    </tr>\n",
       "    <tr>\n",
       "      <th>75%</th>\n",
       "      <td>98188.000000</td>\n",
       "      <td>2023.000000</td>\n",
       "      <td>81.000000</td>\n",
       "      <td>0.000000</td>\n",
       "      <td>45.0000</td>\n",
       "      <td>2.544216e+08</td>\n",
       "      <td>5.303303e+10</td>\n",
       "    </tr>\n",
       "    <tr>\n",
       "      <th>max</th>\n",
       "      <td>99362.000000</td>\n",
       "      <td>2024.000000</td>\n",
       "      <td>337.000000</td>\n",
       "      <td>184400.000000</td>\n",
       "      <td>49.0000</td>\n",
       "      <td>4.789259e+08</td>\n",
       "      <td>5.307794e+10</td>\n",
       "    </tr>\n",
       "  </tbody>\n",
       "</table>\n",
       "</div>"
      ],
      "text/plain": [
       "        Postal Code    Model Year  Electric Range      Base MSRP  \\\n",
       "count  34836.000000  34836.000000    34836.000000   34836.000000   \n",
       "mean   98176.578023   2020.628373       58.813871    1063.928694   \n",
       "std      211.741663      2.931420       91.841390    8225.837420   \n",
       "min    98001.000000   2000.000000        0.000000       0.000000   \n",
       "25%    98034.000000   2019.000000        0.000000       0.000000   \n",
       "50%    98109.000000   2022.000000        0.000000       0.000000   \n",
       "75%    98188.000000   2023.000000       81.000000       0.000000   \n",
       "max    99362.000000   2024.000000      337.000000  184400.000000   \n",
       "\n",
       "       Legislative District  DOL Vehicle ID  2020 Census Tract  \n",
       "count            34836.0000    3.483600e+04       3.483600e+04  \n",
       "mean                32.0000    2.210270e+08       5.303344e+10  \n",
       "std                 14.6925    7.539077e+07       1.170438e+07  \n",
       "min                  1.0000    2.770200e+04       5.300796e+10  \n",
       "25%                 18.0000    1.832627e+08       5.303301e+10  \n",
       "50%                 36.0000    2.287242e+08       5.303302e+10  \n",
       "75%                 45.0000    2.544216e+08       5.303303e+10  \n",
       "max                 49.0000    4.789259e+08       5.307794e+10  "
      ]
     },
     "execution_count": 9,
     "metadata": {},
     "output_type": "execute_result"
    }
   ],
   "source": [
    "data.describe()"
   ]
  },
  {
   "cell_type": "code",
   "execution_count": 10,
   "metadata": {},
   "outputs": [],
   "source": [
    "import matplotlib.pyplot as plt\n",
    "\n",
    "# Data\n",
    "vehicle_type_counts = data['Electric Vehicle Type'].value_counts()\n",
    "make_counts = data['Make'].value_counts().head(20)  # Top 20 manufacturers"
   ]
  },
  {
   "cell_type": "code",
   "execution_count": 11,
   "metadata": {},
   "outputs": [
    {
     "data": {
      "image/png": "[encoded data removed]",
      "text/plain": [
       "<Figure size 1200x600 with 1 Axes>"
      ]
     },
     "metadata": {},
     "output_type": "display_data"
    }
   ],
   "source": [
    "# Calculate percentages\n",
    "percentages = (vehicle_type_counts / vehicle_type_counts.sum()) * 100\n",
    "\n",
    "# Plotting\n",
    "plt.figure(figsize=(12, 6))\n",
    "\n",
    "# Doughnut chart for Electric Vehicle Type\n",
    "plt.subplot(1, 2, 1)\n",
    "plt.pie(vehicle_type_counts, labels=vehicle_type_counts.index, autopct='%1.1f%%', startangle=90, \n",
    "        colors=['lightblue', 'lightgreen'])\n",
    "plt.title('Electric Vehicle Type')\n",
    "plt.axis('equal')  # Equal aspect ratio ensures that pie is drawn as a circle\n",
    "\n",
    "\n",
    "\n",
    "# Add a circle at the center to transform the pie chart into a doughnut chart\n",
    "centre_circle = plt.Circle((0,0),0.70,fc='white')\n",
    "fig = plt.gcf()\n",
    "fig.gca().add_artist(centre_circle)\n",
    "\n",
    "\n",
    "\n",
    "# Add a legend with percentages\n",
    "plt.legend(labels=percentages.index, loc='upper left', bbox_to_anchor=(1, 0.9))\n",
    "\n",
    "plt.tight_layout()\n",
    "plt.show()"
   ]
  },
  {
   "cell_type": "code",
   "execution_count": 12,
   "metadata": {},
   "outputs": [],
   "source": [
    "import seaborn as sns\n",
    "\n",
    "# Grouping data by city and electric vehicle type and counting the number of vehicles in each group\n",
    "city_vehicle_counts = data.groupby(['City', 'Electric Vehicle Type']).size().unstack(fill_value=0)"
   ]
  },
  {
   "cell_type": "code",
   "execution_count": 13,
   "metadata": {},
   "outputs": [
    {
     "data": {
      "text/html": [
       "<div>\n",
       "<style scoped>\n",
       "    .dataframe tbody tr th:only-of-type {\n",
       "        vertical-align: middle;\n",
       "    }\n",
       "\n",
       "    .dataframe tbody tr th {\n",
       "        vertical-align: top;\n",
       "    }\n",
       "\n",
       "    .dataframe thead th {\n",
       "        text-align: right;\n",
       "    }\n",
       "</style>\n",
       "<table border=\"1\" class=\"dataframe\">\n",
       "  <thead>\n",
       "    <tr style=\"text-align: right;\">\n",
       "      <th>Electric Vehicle Type</th>\n",
       "      <th>Battery Electric Vehicle (BEV)</th>\n",
       "      <th>Plug-in Hybrid Electric Vehicle (PHEV)</th>\n",
       "    </tr>\n",
       "    <tr>\n",
       "      <th>City</th>\n",
       "      <th></th>\n",
       "      <th></th>\n",
       "    </tr>\n",
       "  </thead>\n",
       "  <tbody>\n",
       "    <tr>\n",
       "      <th>Algona</th>\n",
       "      <td>9</td>\n",
       "      <td>4</td>\n",
       "    </tr>\n",
       "    <tr>\n",
       "      <th>Amboy</th>\n",
       "      <td>2</td>\n",
       "      <td>1</td>\n",
       "    </tr>\n",
       "    <tr>\n",
       "      <th>Anacortes</th>\n",
       "      <td>2</td>\n",
       "      <td>1</td>\n",
       "    </tr>\n",
       "    <tr>\n",
       "      <th>Ariel</th>\n",
       "      <td>4</td>\n",
       "      <td>4</td>\n",
       "    </tr>\n",
       "    <tr>\n",
       "      <th>Arlington</th>\n",
       "      <td>32</td>\n",
       "      <td>14</td>\n",
       "    </tr>\n",
       "  </tbody>\n",
       "</table>\n",
       "</div>"
      ],
      "text/plain": [
       "Electric Vehicle Type  Battery Electric Vehicle (BEV)  \\\n",
       "City                                                    \n",
       "Algona                                              9   \n",
       "Amboy                                               2   \n",
       "Anacortes                                           2   \n",
       "Ariel                                               4   \n",
       "Arlington                                          32   \n",
       "\n",
       "Electric Vehicle Type  Plug-in Hybrid Electric Vehicle (PHEV)  \n",
       "City                                                           \n",
       "Algona                                                      4  \n",
       "Amboy                                                       1  \n",
       "Anacortes                                                   1  \n",
       "Ariel                                                       4  \n",
       "Arlington                                                  14  "
      ]
     },
     "execution_count": 13,
     "metadata": {},
     "output_type": "execute_result"
    }
   ],
   "source": [
    "city_vehicle_counts.head()"
   ]
  },
  {
   "cell_type": "code",
   "execution_count": 14,
   "metadata": {},
   "outputs": [],
   "source": [
    "# Getting the cities with the highest number of vehicles for each type\n",
    "top_cities_bev = city_vehicle_counts['Battery Electric Vehicle (BEV)'].nlargest(10)\n",
    "top_cities_phev = city_vehicle_counts['Plug-in Hybrid Electric Vehicle (PHEV)'].nlargest(10)"
   ]
  },
  {
   "cell_type": "code",
   "execution_count": 15,
   "metadata": {},
   "outputs": [
    {
     "data": {
      "text/plain": [
       "City\n",
       "Seattle      5237\n",
       "Bellevue     3003\n",
       "Kirkland     2146\n",
       "Vancouver    1707\n",
       "Redmond      1425\n",
       "Sammamish    1301\n",
       "Bothell      1056\n",
       "Shoreline     840\n",
       "Renton        837\n",
       "Kent          786\n",
       "Name: Battery Electric Vehicle (BEV), dtype: int64"
      ]
     },
     "execution_count": 15,
     "metadata": {},
     "output_type": "execute_result"
    }
   ],
   "source": [
    "top_cities_bev"
   ]
  },
  {
   "cell_type": "code",
   "execution_count": 16,
   "metadata": {},
   "outputs": [
    {
     "data": {
      "text/plain": [
       "City\n",
       "Seattle      1353\n",
       "Tukwila      1294\n",
       "Vancouver     599\n",
       "Bellevue      513\n",
       "Kirkland      383\n",
       "Redmond       209\n",
       "Shoreline     195\n",
       "Bothell       189\n",
       "Sammamish     182\n",
       "Renton        175\n",
       "Name: Plug-in Hybrid Electric Vehicle (PHEV), dtype: int64"
      ]
     },
     "execution_count": 16,
     "metadata": {},
     "output_type": "execute_result"
    }
   ],
   "source": [
    "top_cities_phev"
   ]
  },
  {
   "cell_type": "code",
   "execution_count": 17,
   "metadata": {},
   "outputs": [
    {
     "data": {
      "image/png": "[encoded data removed]",
      "text/plain": [
       "<Figure size 1400x800 with 2 Axes>"
      ]
     },
     "metadata": {},
     "output_type": "display_data"
    }
   ],
   "source": [
    "# Plotting\n",
    "plt.figure(figsize=(14, 8))\n",
    "\n",
    "# Plot for Battery Electric Vehicles (BEV)\n",
    "plt.subplot(1, 2, 1)\n",
    "sns.barplot(x=top_cities_bev.values, y=top_cities_bev.index, palette='Blues_r')\n",
    "plt.title('Top Cities with Highest Number of BEVs')\n",
    "plt.xlabel('Number of BEVs')\n",
    "plt.ylabel('City')\n",
    "\n",
    "# Plot for Plug-in Hybrid Electric Vehicles (PHEV)\n",
    "plt.subplot(1, 2, 2)\n",
    "sns.barplot(x=top_cities_phev.values, y=top_cities_phev.index, palette='Greens_r')\n",
    "plt.title('Top Cities with Highest Number of PHEVs')\n",
    "plt.xlabel('Number of PHEVs')\n",
    "plt.ylabel('City')\n",
    "\n",
    "plt.tight_layout()\n",
    "plt.show()"
   ]
  },
  {
   "cell_type": "code",
   "execution_count": 18,
   "metadata": {},
   "outputs": [],
   "source": [
    "# Convert 'Model Year' to string if it's an integer type\n",
    "data['Model Year'] = data['Model Year'].astype(str)\n",
    "\n",
    "# Exclude rows where 'Model Year' is '2024'\n",
    "data = data[data['Model Year'] != '2024']"
   ]
  },
  {
   "cell_type": "code",
   "execution_count": 19,
   "metadata": {},
   "outputs": [
    {
     "data": {
      "text/plain": [
       "Model Year\n",
       "2000        1\n",
       "2002        1\n",
       "2008        1\n",
       "2010        9\n",
       "2011      139\n",
       "2012      263\n",
       "2013      797\n",
       "2014      634\n",
       "2015      885\n",
       "2016     1043\n",
       "2017     1571\n",
       "2018     2821\n",
       "2019     2070\n",
       "2020     2263\n",
       "2021     3610\n",
       "2022     5462\n",
       "2023    11808\n",
       "dtype: int64"
      ]
     },
     "execution_count": 19,
     "metadata": {},
     "output_type": "execute_result"
    }
   ],
   "source": [
    "# Grouping data by model year and counting the number of EVs for each year\n",
    "ev_population_by_year = data.groupby('Model Year').size()\n",
    "\n",
    "ev_population_by_year"
   ]
  },
  {
   "cell_type": "code",
   "execution_count": 20,
   "metadata": {},
   "outputs": [
    {
     "data": {
      "image/png": "[encoded data removed]",
      "text/plain": [
       "<Figure size 1000x600 with 1 Axes>"
      ]
     },
     "metadata": {},
     "output_type": "display_data"
    }
   ],
   "source": [
    "#EV Population Trend over the years\n",
    "plt.figure(figsize=(10, 6))  # Remove facecolor parameter to set background color to normal\n",
    "plt.plot(ev_population_by_year.index, ev_population_by_year.values, marker='o', linestyle='-')\n",
    "plt.title('EV Population Growth by Model Year')\n",
    "plt.xlabel('Model Year')\n",
    "plt.ylabel('Number of EVs')\n",
    "plt.xticks(ev_population_by_year.index, rotation=45)  # Rotate x-axis labels for better readability\n",
    "plt.tight_layout()\n",
    "plt.show()\n"
   ]
  },
  {
   "cell_type": "code",
   "execution_count": 21,
   "metadata": {},
   "outputs": [
    {
     "data": {
      "text/html": [
       "<div>\n",
       "<style scoped>\n",
       "    .dataframe tbody tr th:only-of-type {\n",
       "        vertical-align: middle;\n",
       "    }\n",
       "\n",
       "    .dataframe tbody tr th {\n",
       "        vertical-align: top;\n",
       "    }\n",
       "\n",
       "    .dataframe thead th {\n",
       "        text-align: right;\n",
       "    }\n",
       "</style>\n",
       "<table border=\"1\" class=\"dataframe\">\n",
       "  <thead>\n",
       "    <tr style=\"text-align: right;\">\n",
       "      <th></th>\n",
       "      <th>VIN (1-10)</th>\n",
       "      <th>County</th>\n",
       "      <th>City</th>\n",
       "      <th>State</th>\n",
       "      <th>Postal Code</th>\n",
       "      <th>Model Year</th>\n",
       "      <th>Make</th>\n",
       "      <th>Model</th>\n",
       "      <th>Clean Alternative Fuel Vehicle (CAFV) Eligibility</th>\n",
       "      <th>Electric Range</th>\n",
       "      <th>Base MSRP</th>\n",
       "      <th>Legislative District</th>\n",
       "      <th>DOL Vehicle ID</th>\n",
       "      <th>Vehicle Location</th>\n",
       "      <th>Electric Utility</th>\n",
       "      <th>2020 Census Tract</th>\n",
       "      <th>EV_Type_Battery Electric Vehicle (BEV)</th>\n",
       "      <th>EV_Type_Plug-in Hybrid Electric Vehicle (PHEV)</th>\n",
       "    </tr>\n",
       "  </thead>\n",
       "  <tbody>\n",
       "    <tr>\n",
       "      <th>0</th>\n",
       "      <td>5YJYGDEE1L</td>\n",
       "      <td>King</td>\n",
       "      <td>Seattle</td>\n",
       "      <td>WA</td>\n",
       "      <td>98122</td>\n",
       "      <td>2020</td>\n",
       "      <td>TESLA</td>\n",
       "      <td>MODEL Y</td>\n",
       "      <td>Clean Alternative Fuel Vehicle Eligible</td>\n",
       "      <td>291.0</td>\n",
       "      <td>0.0</td>\n",
       "      <td>37.0</td>\n",
       "      <td>125701579.0</td>\n",
       "      <td>POINT (-122.30839 47.610365)</td>\n",
       "      <td>CITY OF SEATTLE - (WA)|CITY OF TACOMA - (WA)</td>\n",
       "      <td>5.303301e+10</td>\n",
       "      <td>True</td>\n",
       "      <td>False</td>\n",
       "    </tr>\n",
       "    <tr>\n",
       "      <th>1</th>\n",
       "      <td>7SAYGDEE9P</td>\n",
       "      <td>Snohomish</td>\n",
       "      <td>Bothell</td>\n",
       "      <td>WA</td>\n",
       "      <td>98021</td>\n",
       "      <td>2023</td>\n",
       "      <td>TESLA</td>\n",
       "      <td>MODEL Y</td>\n",
       "      <td>Eligibility unknown as battery range has not b...</td>\n",
       "      <td>0.0</td>\n",
       "      <td>0.0</td>\n",
       "      <td>1.0</td>\n",
       "      <td>244285107.0</td>\n",
       "      <td>POINT (-122.179458 47.802589)</td>\n",
       "      <td>PUGET SOUND ENERGY INC</td>\n",
       "      <td>5.306105e+10</td>\n",
       "      <td>True</td>\n",
       "      <td>False</td>\n",
       "    </tr>\n",
       "    <tr>\n",
       "      <th>2</th>\n",
       "      <td>5YJSA1E4XK</td>\n",
       "      <td>King</td>\n",
       "      <td>Seattle</td>\n",
       "      <td>WA</td>\n",
       "      <td>98109</td>\n",
       "      <td>2019</td>\n",
       "      <td>TESLA</td>\n",
       "      <td>MODEL S</td>\n",
       "      <td>Clean Alternative Fuel Vehicle Eligible</td>\n",
       "      <td>270.0</td>\n",
       "      <td>0.0</td>\n",
       "      <td>36.0</td>\n",
       "      <td>156773144.0</td>\n",
       "      <td>POINT (-122.34848 47.632405)</td>\n",
       "      <td>CITY OF SEATTLE - (WA)|CITY OF TACOMA - (WA)</td>\n",
       "      <td>5.303301e+10</td>\n",
       "      <td>True</td>\n",
       "      <td>False</td>\n",
       "    </tr>\n",
       "    <tr>\n",
       "      <th>3</th>\n",
       "      <td>5YJSA1E27G</td>\n",
       "      <td>King</td>\n",
       "      <td>Issaquah</td>\n",
       "      <td>WA</td>\n",
       "      <td>98027</td>\n",
       "      <td>2016</td>\n",
       "      <td>TESLA</td>\n",
       "      <td>MODEL S</td>\n",
       "      <td>Clean Alternative Fuel Vehicle Eligible</td>\n",
       "      <td>210.0</td>\n",
       "      <td>0.0</td>\n",
       "      <td>5.0</td>\n",
       "      <td>165103011.0</td>\n",
       "      <td>POINT (-122.03646 47.534065)</td>\n",
       "      <td>PUGET SOUND ENERGY INC||CITY OF TACOMA - (WA)</td>\n",
       "      <td>5.303303e+10</td>\n",
       "      <td>True</td>\n",
       "      <td>False</td>\n",
       "    </tr>\n",
       "    <tr>\n",
       "      <th>4</th>\n",
       "      <td>5YJYGDEE5M</td>\n",
       "      <td>Kitsap</td>\n",
       "      <td>Suquamish</td>\n",
       "      <td>WA</td>\n",
       "      <td>98392</td>\n",
       "      <td>2021</td>\n",
       "      <td>TESLA</td>\n",
       "      <td>MODEL Y</td>\n",
       "      <td>Eligibility unknown as battery range has not b...</td>\n",
       "      <td>0.0</td>\n",
       "      <td>0.0</td>\n",
       "      <td>23.0</td>\n",
       "      <td>205138552.0</td>\n",
       "      <td>POINT (-122.55717 47.733415)</td>\n",
       "      <td>PUGET SOUND ENERGY INC</td>\n",
       "      <td>5.303594e+10</td>\n",
       "      <td>True</td>\n",
       "      <td>False</td>\n",
       "    </tr>\n",
       "  </tbody>\n",
       "</table>\n",
       "</div>"
      ],
      "text/plain": [
       "   VIN (1-10)     County       City State  Postal Code Model Year   Make  \\\n",
       "0  5YJYGDEE1L       King    Seattle    WA        98122       2020  TESLA   \n",
       "1  7SAYGDEE9P  Snohomish    Bothell    WA        98021       2023  TESLA   \n",
       "2  5YJSA1E4XK       King    Seattle    WA        98109       2019  TESLA   \n",
       "3  5YJSA1E27G       King   Issaquah    WA        98027       2016  TESLA   \n",
       "4  5YJYGDEE5M     Kitsap  Suquamish    WA        98392       2021  TESLA   \n",
       "\n",
       "     Model  Clean Alternative Fuel Vehicle (CAFV) Eligibility  Electric Range  \\\n",
       "0  MODEL Y            Clean Alternative Fuel Vehicle Eligible           291.0   \n",
       "1  MODEL Y  Eligibility unknown as battery range has not b...             0.0   \n",
       "2  MODEL S            Clean Alternative Fuel Vehicle Eligible           270.0   \n",
       "3  MODEL S            Clean Alternative Fuel Vehicle Eligible           210.0   \n",
       "4  MODEL Y  Eligibility unknown as battery range has not b...             0.0   \n",
       "\n",
       "   Base MSRP  Legislative District  DOL Vehicle ID  \\\n",
       "0        0.0                  37.0     125701579.0   \n",
       "1        0.0                   1.0     244285107.0   \n",
       "2        0.0                  36.0     156773144.0   \n",
       "3        0.0                   5.0     165103011.0   \n",
       "4        0.0                  23.0     205138552.0   \n",
       "\n",
       "                Vehicle Location  \\\n",
       "0   POINT (-122.30839 47.610365)   \n",
       "1  POINT (-122.179458 47.802589)   \n",
       "2   POINT (-122.34848 47.632405)   \n",
       "3   POINT (-122.03646 47.534065)   \n",
       "4   POINT (-122.55717 47.733415)   \n",
       "\n",
       "                                Electric Utility  2020 Census Tract  \\\n",
       "0   CITY OF SEATTLE - (WA)|CITY OF TACOMA - (WA)       5.303301e+10   \n",
       "1                         PUGET SOUND ENERGY INC       5.306105e+10   \n",
       "2   CITY OF SEATTLE - (WA)|CITY OF TACOMA - (WA)       5.303301e+10   \n",
       "3  PUGET SOUND ENERGY INC||CITY OF TACOMA - (WA)       5.303303e+10   \n",
       "4                         PUGET SOUND ENERGY INC       5.303594e+10   \n",
       "\n",
       "   EV_Type_Battery Electric Vehicle (BEV)  \\\n",
       "0                                    True   \n",
       "1                                    True   \n",
       "2                                    True   \n",
       "3                                    True   \n",
       "4                                    True   \n",
       "\n",
       "   EV_Type_Plug-in Hybrid Electric Vehicle (PHEV)  \n",
       "0                                           False  \n",
       "1                                           False  \n",
       "2                                           False  \n",
       "3                                           False  \n",
       "4                                           False  "
      ]
     },
     "execution_count": 21,
     "metadata": {},
     "output_type": "execute_result"
    }
   ],
   "source": [
    "# Convert \"Electric Vehicle Type\" into dummy variables\n",
    "dummy_df = pd.get_dummies(data[\"Electric Vehicle Type\"], prefix=\"EV_Type\")\n",
    "\n",
    "# Concatenate the dummy variables with the original DataFrame\n",
    "data = pd.concat([data, dummy_df], axis=1)\n",
    "\n",
    "# Drop the original \"Electric Vehicle Type\" column\n",
    "data.drop(\"Electric Vehicle Type\", axis=1, inplace=True)\n",
    "\n",
    "# Display the updated DataFrame\n",
    "data.head()"
   ]
  },
  {
   "cell_type": "code",
   "execution_count": 22,
   "metadata": {},
   "outputs": [],
   "source": [
    "data.drop([\"VIN (1-10)\", \"Postal Code\", \"Clean Alternative Fuel Vehicle (CAFV) Eligibility\",\n",
    "          \"Legislative District\", \"Base MSRP\", \"DOL Vehicle ID\",\n",
    "          \"Electric Utility\", \"2020 Census Tract\"], axis=1, inplace=True)"
   ]
  },
  {
   "cell_type": "code",
   "execution_count": 23,
   "metadata": {},
   "outputs": [],
   "source": [
    "# Split the \"Vehicle Location\" column into longitude and latitude\n",
    "split_location = data['Vehicle Location'].str.strip('POINT ()').str.split(' ', expand=True)\n",
    "data['Longitude'] = split_location[0]\n",
    "data['Latitude'] = split_location[1]\n",
    "\n",
    "# Drop the original \"Vehicle Location\" column\n",
    "data.drop(\"Vehicle Location\", axis=1, inplace=True)"
   ]
  },
  {
   "cell_type": "code",
   "execution_count": 25,
   "metadata": {},
   "outputs": [],
   "source": [
    "# Convert Latitude and Longitude to float\n",
    "data['Latitude'] = data['Latitude'].astype(float)\n",
    "data['Longitude'] = data['Longitude'].astype(float)\n",
    "\n",
    "# Convert Model Year to year format\n",
    "data['Model Year'] = pd.to_datetime(data['Model Year'], format='%Y').dt.year\n"
   ]
  },
  {
   "cell_type": "code",
   "execution_count": 26,
   "metadata": {},
   "outputs": [
    {
     "data": {
      "text/html": [
       "<div>\n",
       "<style scoped>\n",
       "    .dataframe tbody tr th:only-of-type {\n",
       "        vertical-align: middle;\n",
       "    }\n",
       "\n",
       "    .dataframe tbody tr th {\n",
       "        vertical-align: top;\n",
       "    }\n",
       "\n",
       "    .dataframe thead th {\n",
       "        text-align: right;\n",
       "    }\n",
       "</style>\n",
       "<table border=\"1\" class=\"dataframe\">\n",
       "  <thead>\n",
       "    <tr style=\"text-align: right;\">\n",
       "      <th></th>\n",
       "      <th>County</th>\n",
       "      <th>City</th>\n",
       "      <th>State</th>\n",
       "      <th>Model Year</th>\n",
       "      <th>Make</th>\n",
       "      <th>Model</th>\n",
       "      <th>Electric Range</th>\n",
       "      <th>EV_Type_Battery Electric Vehicle (BEV)</th>\n",
       "      <th>EV_Type_Plug-in Hybrid Electric Vehicle (PHEV)</th>\n",
       "      <th>Longitude</th>\n",
       "      <th>Latitude</th>\n",
       "    </tr>\n",
       "  </thead>\n",
       "  <tbody>\n",
       "    <tr>\n",
       "      <th>0</th>\n",
       "      <td>King</td>\n",
       "      <td>Seattle</td>\n",
       "      <td>WA</td>\n",
       "      <td>2020</td>\n",
       "      <td>TESLA</td>\n",
       "      <td>MODEL Y</td>\n",
       "      <td>291.0</td>\n",
       "      <td>True</td>\n",
       "      <td>False</td>\n",
       "      <td>-122.308390</td>\n",
       "      <td>47.610365</td>\n",
       "    </tr>\n",
       "    <tr>\n",
       "      <th>1</th>\n",
       "      <td>Snohomish</td>\n",
       "      <td>Bothell</td>\n",
       "      <td>WA</td>\n",
       "      <td>2023</td>\n",
       "      <td>TESLA</td>\n",
       "      <td>MODEL Y</td>\n",
       "      <td>0.0</td>\n",
       "      <td>True</td>\n",
       "      <td>False</td>\n",
       "      <td>-122.179458</td>\n",
       "      <td>47.802589</td>\n",
       "    </tr>\n",
       "    <tr>\n",
       "      <th>2</th>\n",
       "      <td>King</td>\n",
       "      <td>Seattle</td>\n",
       "      <td>WA</td>\n",
       "      <td>2019</td>\n",
       "      <td>TESLA</td>\n",
       "      <td>MODEL S</td>\n",
       "      <td>270.0</td>\n",
       "      <td>True</td>\n",
       "      <td>False</td>\n",
       "      <td>-122.348480</td>\n",
       "      <td>47.632405</td>\n",
       "    </tr>\n",
       "    <tr>\n",
       "      <th>3</th>\n",
       "      <td>King</td>\n",
       "      <td>Issaquah</td>\n",
       "      <td>WA</td>\n",
       "      <td>2016</td>\n",
       "      <td>TESLA</td>\n",
       "      <td>MODEL S</td>\n",
       "      <td>210.0</td>\n",
       "      <td>True</td>\n",
       "      <td>False</td>\n",
       "      <td>-122.036460</td>\n",
       "      <td>47.534065</td>\n",
       "    </tr>\n",
       "    <tr>\n",
       "      <th>4</th>\n",
       "      <td>Kitsap</td>\n",
       "      <td>Suquamish</td>\n",
       "      <td>WA</td>\n",
       "      <td>2021</td>\n",
       "      <td>TESLA</td>\n",
       "      <td>MODEL Y</td>\n",
       "      <td>0.0</td>\n",
       "      <td>True</td>\n",
       "      <td>False</td>\n",
       "      <td>-122.557170</td>\n",
       "      <td>47.733415</td>\n",
       "    </tr>\n",
       "  </tbody>\n",
       "</table>\n",
       "</div>"
      ],
      "text/plain": [
       "      County       City State  Model Year   Make    Model  Electric Range  \\\n",
       "0       King    Seattle    WA        2020  TESLA  MODEL Y           291.0   \n",
       "1  Snohomish    Bothell    WA        2023  TESLA  MODEL Y             0.0   \n",
       "2       King    Seattle    WA        2019  TESLA  MODEL S           270.0   \n",
       "3       King   Issaquah    WA        2016  TESLA  MODEL S           210.0   \n",
       "4     Kitsap  Suquamish    WA        2021  TESLA  MODEL Y             0.0   \n",
       "\n",
       "   EV_Type_Battery Electric Vehicle (BEV)  \\\n",
       "0                                    True   \n",
       "1                                    True   \n",
       "2                                    True   \n",
       "3                                    True   \n",
       "4                                    True   \n",
       "\n",
       "   EV_Type_Plug-in Hybrid Electric Vehicle (PHEV)   Longitude   Latitude  \n",
       "0                                           False -122.308390  47.610365  \n",
       "1                                           False -122.179458  47.802589  \n",
       "2                                           False -122.348480  47.632405  \n",
       "3                                           False -122.036460  47.534065  \n",
       "4                                           False -122.557170  47.733415  "
      ]
     },
     "execution_count": 26,
     "metadata": {},
     "output_type": "execute_result"
    }
   ],
   "source": [
    "data.head()"
   ]
  },
  {
   "cell_type": "markdown",
   "metadata": {},
   "source": [
    "During data exploration and cleaning process, I examined summary statistics, checked for missing values, and visualized distributions of key variables and trend of EV population over the years. Data cleaning involved handling missing values, converting categorical variables (Vehicle Type) into dummy variables, and identifying and treating outliers if necessary. Feature engineering will involve creating interaction terms or polynomial features to capture nonlinear relationships."
   ]
  },
  {
   "cell_type": "markdown",
   "metadata": {},
   "source": [
    "# 3. Linear Regression Models\n"
   ]
  },
  {
   "cell_type": "markdown",
   "metadata": {},
   "source": [
    "### LINEAR REGRESSION"
   ]
  },
  {
   "cell_type": "code",
   "execution_count": 29,
   "metadata": {},
   "outputs": [],
   "source": [
    "# Filter out zero or negative values\n",
    "data['Filtered_Electric_Range'] = data[data['Electric Range'] > 0]['Electric Range']"
   ]
  },
  {
   "cell_type": "code",
   "execution_count": 30,
   "metadata": {},
   "outputs": [
    {
     "data": {
      "text/plain": [
       "<Axes: >"
      ]
     },
     "execution_count": 30,
     "metadata": {},
     "output_type": "execute_result"
    },
    {
     "data": {
      "image/png": "[encoded data removed]",
      "text/plain": [
       "<Figure size 640x480 with 1 Axes>"
      ]
     },
     "metadata": {},
     "output_type": "display_data"
    }
   ],
   "source": [
    "data['Filtered_Electric_Range'].hist()"
   ]
  },
  {
   "cell_type": "code",
   "execution_count": 41,
   "metadata": {},
   "outputs": [],
   "source": [
    "from scipy.stats import boxcox"
   ]
  },
  {
   "cell_type": "code",
   "execution_count": 46,
   "metadata": {},
   "outputs": [],
   "source": [
    "# Calculate the IQR\n",
    "Q1 = data['Filtered_Electric_Range'].quantile(0.25)\n",
    "Q3 = data['Filtered_Electric_Range'].quantile(0.75)\n",
    "IQR = Q3 - Q1\n",
    "\n",
    "# Define lower and upper bounds for outliers\n",
    "lower_bound = Q1 - 1.5 * IQR\n",
    "upper_bound = Q3 + 1.5 * IQR\n",
    "\n",
    "# Identify outliers\n",
    "outliers = data[(data['Filtered_Electric_Range'] < lower_bound) | (data['Filtered_Electric_Range'] > upper_bound)]\n",
    "\n",
    "# Remove outliers\n",
    "cleaned_data = data[~((data['Filtered_Electric_Range'] < lower_bound) | (data['Filtered_Electric_Range'] > upper_bound))]"
   ]
  },
  {
   "cell_type": "code",
   "execution_count": 63,
   "metadata": {},
   "outputs": [
    {
     "data": {
      "text/plain": [
       "County                                            0\n",
       "City                                              0\n",
       "State                                             0\n",
       "Model Year                                        0\n",
       "Make                                              0\n",
       "Model                                             0\n",
       "Electric Range                                    0\n",
       "EV_Type_Battery Electric Vehicle (BEV)            0\n",
       "EV_Type_Plug-in Hybrid Electric Vehicle (PHEV)    0\n",
       "Longitude                                         0\n",
       "Latitude                                          0\n",
       "Filtered_Electric_Range                           0\n",
       "dtype: int64"
      ]
     },
     "execution_count": 63,
     "metadata": {},
     "output_type": "execute_result"
    }
   ],
   "source": [
    "cleaned_data.isnull().sum()"
   ]
  },
  {
   "cell_type": "code",
   "execution_count": 51,
   "metadata": {},
   "outputs": [],
   "source": [
    "cleaned_data = cleaned_data.dropna(subset=['Filtered_Electric_Range'])"
   ]
  },
  {
   "cell_type": "code",
   "execution_count": 53,
   "metadata": {},
   "outputs": [
    {
     "name": "stdout",
     "output_type": "stream",
     "text": [
      "Lambda: 0.2247941416408938\n"
     ]
    }
   ],
   "source": [
    "# Perform Box-Cox transformation\n",
    "boxcox_ER, lam = boxcox(cleaned_data['Filtered_Electric_Range'])\n",
    "\n",
    "# Display the lambda value\n",
    "print(\"Lambda:\", lam)"
   ]
  },
  {
   "cell_type": "code",
   "execution_count": 55,
   "metadata": {},
   "outputs": [
    {
     "data": {
      "image/png": "[encoded data removed]",
      "text/plain": [
       "<Figure size 800x600 with 1 Axes>"
      ]
     },
     "metadata": {},
     "output_type": "display_data"
    }
   ],
   "source": [
    "# Plot histogram of transformed data\n",
    "plt.figure(figsize=(8, 6))\n",
    "plt.hist(boxcox_ER, bins=20, color='skyblue', edgecolor='black')\n",
    "plt.title('Histogram of Box-Cox Transformed Electric Range')\n",
    "plt.xlabel('Transformed Electric Range')\n",
    "plt.ylabel('Frequency')\n",
    "plt.grid(True)\n",
    "plt.show()"
   ]
  },
  {
   "cell_type": "code",
   "execution_count": 57,
   "metadata": {},
   "outputs": [
    {
     "name": "stdout",
     "output_type": "stream",
     "text": [
      "Test Statistic: 97384.12724877676\n",
      "p-value: 0.0\n"
     ]
    }
   ],
   "source": [
    "# Perform normality test\n",
    "statistic, p_value = normaltest(boxcox_ER)\n",
    "\n",
    "# Display the test statistic and p-value\n",
    "print(\"Test Statistic:\", statistic)\n",
    "print(\"p-value:\", p_value)"
   ]
  },
  {
   "cell_type": "code",
   "execution_count": 58,
   "metadata": {},
   "outputs": [],
   "source": [
    "from sklearn.model_selection import train_test_split\n",
    "from sklearn.linear_model import LinearRegression\n",
    "from sklearn.metrics import mean_squared_error"
   ]
  },
  {
   "cell_type": "code",
   "execution_count": 67,
   "metadata": {},
   "outputs": [],
   "source": [
    "X = cleaned_data[['Longitude', 'Latitude', 'Model Year', 'EV_Type_Battery Electric Vehicle (BEV)',\n",
    "          'EV_Type_Plug-in Hybrid Electric Vehicle (PHEV)']]\n",
    "\n",
    "y = cleaned_data['Filtered_Electric_Range']  # 'Electric Range' is the target variable"
   ]
  },
  {
   "cell_type": "code",
   "execution_count": 68,
   "metadata": {},
   "outputs": [
    {
     "data": {
      "text/plain": [
       "(16005, 5)"
      ]
     },
     "execution_count": 68,
     "metadata": {},
     "output_type": "execute_result"
    }
   ],
   "source": [
    "X.shape"
   ]
  },
  {
   "cell_type": "code",
   "execution_count": 69,
   "metadata": {},
   "outputs": [
    {
     "data": {
      "text/plain": [
       "(16005,)"
      ]
     },
     "execution_count": 69,
     "metadata": {},
     "output_type": "execute_result"
    }
   ],
   "source": [
    "y.shape"
   ]
  },
  {
   "cell_type": "code",
   "execution_count": 70,
   "metadata": {},
   "outputs": [],
   "source": [
    "# Split the data into training and testing sets (80% train, 20% test)\n",
    "X_train, X_test, y_train, y_test = train_test_split(X, y, test_size=0.2, random_state=42)"
   ]
  },
  {
   "cell_type": "code",
   "execution_count": 71,
   "metadata": {},
   "outputs": [],
   "source": [
    "# Create a linear regression model\n",
    "model = LinearRegression()"
   ]
  },
  {
   "cell_type": "code",
   "execution_count": 72,
   "metadata": {},
   "outputs": [
    {
     "data": {
      "text/html": [
       "<style>#sk-container-id-1 {color: black;}#sk-container-id-1 pre{padding: 0;}#sk-container-id-1 div.sk-toggleable {background-color: white;}#sk-container-id-1 label.sk-toggleable__label {cursor: pointer;display: block;width: 100%;margin-bottom: 0;padding: 0.3em;box-sizing: border-box;text-align: center;}#sk-container-id-1 label.sk-toggleable__label-arrow:before {content: \"▸\";float: left;margin-right: 0.25em;color: #696969;}#sk-container-id-1 label.sk-toggleable__label-arrow:hover:before {color: black;}#sk-container-id-1 div.sk-estimator:hover label.sk-toggleable__label-arrow:before {color: black;}#sk-container-id-1 div.sk-toggleable__content {max-height: 0;max-width: 0;overflow: hidden;text-align: left;background-color: #f0f8ff;}#sk-container-id-1 div.sk-toggleable__content pre {margin: 0.2em;color: black;border-radius: 0.25em;background-color: #f0f8ff;}#sk-container-id-1 input.sk-toggleable__control:checked~div.sk-toggleable__content {max-height: 200px;max-width: 100%;overflow: auto;}#sk-container-id-1 input.sk-toggleable__control:checked~label.sk-toggleable__label-arrow:before {content: \"▾\";}#sk-container-id-1 div.sk-estimator input.sk-toggleable__control:checked~label.sk-toggleable__label {background-color: #d4ebff;}#sk-container-id-1 div.sk-label input.sk-toggleable__control:checked~label.sk-toggleable__label {background-color: #d4ebff;}#sk-container-id-1 input.sk-hidden--visually {border: 0;clip: rect(1px 1px 1px 1px);clip: rect(1px, 1px, 1px, 1px);height: 1px;margin: -1px;overflow: hidden;padding: 0;position: absolute;width: 1px;}#sk-container-id-1 div.sk-estimator {font-family: monospace;background-color: #f0f8ff;border: 1px dotted black;border-radius: 0.25em;box-sizing: border-box;margin-bottom: 0.5em;}#sk-container-id-1 div.sk-estimator:hover {background-color: #d4ebff;}#sk-container-id-1 div.sk-parallel-item::after {content: \"\";width: 100%;border-bottom: 1px solid gray;flex-grow: 1;}#sk-container-id-1 div.sk-label:hover label.sk-toggleable__label {background-color: #d4ebff;}#sk-container-id-1 div.sk-serial::before {content: \"\";position: absolute;border-left: 1px solid gray;box-sizing: border-box;top: 0;bottom: 0;left: 50%;z-index: 0;}#sk-container-id-1 div.sk-serial {display: flex;flex-direction: column;align-items: center;background-color: white;padding-right: 0.2em;padding-left: 0.2em;position: relative;}#sk-container-id-1 div.sk-item {position: relative;z-index: 1;}#sk-container-id-1 div.sk-parallel {display: flex;align-items: stretch;justify-content: center;background-color: white;position: relative;}#sk-container-id-1 div.sk-item::before, #sk-container-id-1 div.sk-parallel-item::before {content: \"\";position: absolute;border-left: 1px solid gray;box-sizing: border-box;top: 0;bottom: 0;left: 50%;z-index: -1;}#sk-container-id-1 div.sk-parallel-item {display: flex;flex-direction: column;z-index: 1;position: relative;background-color: white;}#sk-container-id-1 div.sk-parallel-item:first-child::after {align-self: flex-end;width: 50%;}#sk-container-id-1 div.sk-parallel-item:last-child::after {align-self: flex-start;width: 50%;}#sk-container-id-1 div.sk-parallel-item:only-child::after {width: 0;}#sk-container-id-1 div.sk-dashed-wrapped {border: 1px dashed gray;margin: 0 0.4em 0.5em 0.4em;box-sizing: border-box;padding-bottom: 0.4em;background-color: white;}#sk-container-id-1 div.sk-label label {font-family: monospace;font-weight: bold;display: inline-block;line-height: 1.2em;}#sk-container-id-1 div.sk-label-container {text-align: center;}#sk-container-id-1 div.sk-container {/* jupyter's `normalize.less` sets `[hidden] { display: none; }` but bootstrap.min.css set `[hidden] { display: none !important; }` so we also need the `!important` here to be able to override the default hidden behavior on the sphinx rendered scikit-learn.org. See: https://github.com/scikit-learn/scikit-learn/issues/21755 */display: inline-block !important;position: relative;}#sk-container-id-1 div.sk-text-repr-fallback {display: none;}</style><div id=\"sk-container-id-1\" class=\"sk-top-container\"><div class=\"sk-text-repr-fallback\"><pre>LinearRegression()</pre><b>In a Jupyter environment, please rerun this cell to show the HTML representation or trust the notebook. <br />On GitHub, the HTML representation is unable to render, please try loading this page with nbviewer.org.</b></div><div class=\"sk-container\" hidden><div class=\"sk-item\"><div class=\"sk-estimator sk-toggleable\"><input class=\"sk-toggleable__control sk-hidden--visually\" id=\"sk-estimator-id-1\" type=\"checkbox\" checked><label for=\"sk-estimator-id-1\" class=\"sk-toggleable__label sk-toggleable__label-arrow\">LinearRegression</label><div class=\"sk-toggleable__content\"><pre>LinearRegression()</pre></div></div></div></div></div>"
      ],
      "text/plain": [
       "LinearRegression()"
      ]
     },
     "execution_count": 72,
     "metadata": {},
     "output_type": "execute_result"
    }
   ],
   "source": [
    "# Fit the model on the training data\n",
    "model.fit(X_train, y_train)"
   ]
  },
  {
   "cell_type": "code",
   "execution_count": 73,
   "metadata": {},
   "outputs": [],
   "source": [
    "# Make predictions on the test data\n",
    "y_pred = model.predict(X_test)"
   ]
  },
  {
   "cell_type": "code",
   "execution_count": 103,
   "metadata": {},
   "outputs": [
    {
     "name": "stdout",
     "output_type": "stream",
     "text": [
      "Linear Regression R-squared: 0.7364979481738515\n",
      "Linear Regression RMSE: 40.748694066885555\n"
     ]
    }
   ],
   "source": [
    "# Calculate and print the R-squared value\n",
    "r_squared = model.score(X_test, y_test)\n",
    "print(\"Linear Regression R-squared:\", r_squared)\n",
    "\n",
    "# Calculate and print the mean squared error\n",
    "mse = mean_squared_error(y_test, y_pred)\n",
    "\n",
    "# Calculate root mean squared error\n",
    "rmse = np.sqrt(mse)\n",
    "\n",
    "print(\"Linear Regression RMSE:\", rmse)"
   ]
  },
  {
   "cell_type": "markdown",
   "metadata": {},
   "source": [
    "### POLYNOMIAL REGRESSION"
   ]
  },
  {
   "cell_type": "code",
   "execution_count": 80,
   "metadata": {},
   "outputs": [],
   "source": [
    "from sklearn.preprocessing import PolynomialFeatures\n",
    "from sklearn.pipeline import make_pipeline"
   ]
  },
  {
   "cell_type": "code",
   "execution_count": 81,
   "metadata": {},
   "outputs": [],
   "source": [
    "# Create polynomial features transformer\n",
    "degree = 2  # Set the degree of the polynomial features\n",
    "poly_features = PolynomialFeatures(degree=degree)"
   ]
  },
  {
   "cell_type": "code",
   "execution_count": 82,
   "metadata": {},
   "outputs": [],
   "source": [
    "# Create a pipeline with polynomial features and linear regression\n",
    "pipeline = make_pipeline(poly_features, LinearRegression())"
   ]
  },
  {
   "cell_type": "code",
   "execution_count": 83,
   "metadata": {},
   "outputs": [
    {
     "data": {
      "text/html": [
       "<style>#sk-container-id-2 {color: black;}#sk-container-id-2 pre{padding: 0;}#sk-container-id-2 div.sk-toggleable {background-color: white;}#sk-container-id-2 label.sk-toggleable__label {cursor: pointer;display: block;width: 100%;margin-bottom: 0;padding: 0.3em;box-sizing: border-box;text-align: center;}#sk-container-id-2 label.sk-toggleable__label-arrow:before {content: \"▸\";float: left;margin-right: 0.25em;color: #696969;}#sk-container-id-2 label.sk-toggleable__label-arrow:hover:before {color: black;}#sk-container-id-2 div.sk-estimator:hover label.sk-toggleable__label-arrow:before {color: black;}#sk-container-id-2 div.sk-toggleable__content {max-height: 0;max-width: 0;overflow: hidden;text-align: left;background-color: #f0f8ff;}#sk-container-id-2 div.sk-toggleable__content pre {margin: 0.2em;color: black;border-radius: 0.25em;background-color: #f0f8ff;}#sk-container-id-2 input.sk-toggleable__control:checked~div.sk-toggleable__content {max-height: 200px;max-width: 100%;overflow: auto;}#sk-container-id-2 input.sk-toggleable__control:checked~label.sk-toggleable__label-arrow:before {content: \"▾\";}#sk-container-id-2 div.sk-estimator input.sk-toggleable__control:checked~label.sk-toggleable__label {background-color: #d4ebff;}#sk-container-id-2 div.sk-label input.sk-toggleable__control:checked~label.sk-toggleable__label {background-color: #d4ebff;}#sk-container-id-2 input.sk-hidden--visually {border: 0;clip: rect(1px 1px 1px 1px);clip: rect(1px, 1px, 1px, 1px);height: 1px;margin: -1px;overflow: hidden;padding: 0;position: absolute;width: 1px;}#sk-container-id-2 div.sk-estimator {font-family: monospace;background-color: #f0f8ff;border: 1px dotted black;border-radius: 0.25em;box-sizing: border-box;margin-bottom: 0.5em;}#sk-container-id-2 div.sk-estimator:hover {background-color: #d4ebff;}#sk-container-id-2 div.sk-parallel-item::after {content: \"\";width: 100%;border-bottom: 1px solid gray;flex-grow: 1;}#sk-container-id-2 div.sk-label:hover label.sk-toggleable__label {background-color: #d4ebff;}#sk-container-id-2 div.sk-serial::before {content: \"\";position: absolute;border-left: 1px solid gray;box-sizing: border-box;top: 0;bottom: 0;left: 50%;z-index: 0;}#sk-container-id-2 div.sk-serial {display: flex;flex-direction: column;align-items: center;background-color: white;padding-right: 0.2em;padding-left: 0.2em;position: relative;}#sk-container-id-2 div.sk-item {position: relative;z-index: 1;}#sk-container-id-2 div.sk-parallel {display: flex;align-items: stretch;justify-content: center;background-color: white;position: relative;}#sk-container-id-2 div.sk-item::before, #sk-container-id-2 div.sk-parallel-item::before {content: \"\";position: absolute;border-left: 1px solid gray;box-sizing: border-box;top: 0;bottom: 0;left: 50%;z-index: -1;}#sk-container-id-2 div.sk-parallel-item {display: flex;flex-direction: column;z-index: 1;position: relative;background-color: white;}#sk-container-id-2 div.sk-parallel-item:first-child::after {align-self: flex-end;width: 50%;}#sk-container-id-2 div.sk-parallel-item:last-child::after {align-self: flex-start;width: 50%;}#sk-container-id-2 div.sk-parallel-item:only-child::after {width: 0;}#sk-container-id-2 div.sk-dashed-wrapped {border: 1px dashed gray;margin: 0 0.4em 0.5em 0.4em;box-sizing: border-box;padding-bottom: 0.4em;background-color: white;}#sk-container-id-2 div.sk-label label {font-family: monospace;font-weight: bold;display: inline-block;line-height: 1.2em;}#sk-container-id-2 div.sk-label-container {text-align: center;}#sk-container-id-2 div.sk-container {/* jupyter's `normalize.less` sets `[hidden] { display: none; }` but bootstrap.min.css set `[hidden] { display: none !important; }` so we also need the `!important` here to be able to override the default hidden behavior on the sphinx rendered scikit-learn.org. See: https://github.com/scikit-learn/scikit-learn/issues/21755 */display: inline-block !important;position: relative;}#sk-container-id-2 div.sk-text-repr-fallback {display: none;}</style><div id=\"sk-container-id-2\" class=\"sk-top-container\"><div class=\"sk-text-repr-fallback\"><pre>Pipeline(steps=[(&#x27;polynomialfeatures&#x27;, PolynomialFeatures()),\n",
       "                (&#x27;linearregression&#x27;, LinearRegression())])</pre><b>In a Jupyter environment, please rerun this cell to show the HTML representation or trust the notebook. <br />On GitHub, the HTML representation is unable to render, please try loading this page with nbviewer.org.</b></div><div class=\"sk-container\" hidden><div class=\"sk-item sk-dashed-wrapped\"><div class=\"sk-label-container\"><div class=\"sk-label sk-toggleable\"><input class=\"sk-toggleable__control sk-hidden--visually\" id=\"sk-estimator-id-2\" type=\"checkbox\" ><label for=\"sk-estimator-id-2\" class=\"sk-toggleable__label sk-toggleable__label-arrow\">Pipeline</label><div class=\"sk-toggleable__content\"><pre>Pipeline(steps=[(&#x27;polynomialfeatures&#x27;, PolynomialFeatures()),\n",
       "                (&#x27;linearregression&#x27;, LinearRegression())])</pre></div></div></div><div class=\"sk-serial\"><div class=\"sk-item\"><div class=\"sk-estimator sk-toggleable\"><input class=\"sk-toggleable__control sk-hidden--visually\" id=\"sk-estimator-id-3\" type=\"checkbox\" ><label for=\"sk-estimator-id-3\" class=\"sk-toggleable__label sk-toggleable__label-arrow\">PolynomialFeatures</label><div class=\"sk-toggleable__content\"><pre>PolynomialFeatures()</pre></div></div></div><div class=\"sk-item\"><div class=\"sk-estimator sk-toggleable\"><input class=\"sk-toggleable__control sk-hidden--visually\" id=\"sk-estimator-id-4\" type=\"checkbox\" ><label for=\"sk-estimator-id-4\" class=\"sk-toggleable__label sk-toggleable__label-arrow\">LinearRegression</label><div class=\"sk-toggleable__content\"><pre>LinearRegression()</pre></div></div></div></div></div></div></div>"
      ],
      "text/plain": [
       "Pipeline(steps=[('polynomialfeatures', PolynomialFeatures()),\n",
       "                ('linearregression', LinearRegression())])"
      ]
     },
     "execution_count": 83,
     "metadata": {},
     "output_type": "execute_result"
    }
   ],
   "source": [
    "# Fit the model on the training data\n",
    "pipeline.fit(X_train, y_train)"
   ]
  },
  {
   "cell_type": "code",
   "execution_count": 84,
   "metadata": {},
   "outputs": [],
   "source": [
    "# Predict on the testing data\n",
    "y_pred = pipeline.predict(X_test)"
   ]
  },
  {
   "cell_type": "code",
   "execution_count": 104,
   "metadata": {},
   "outputs": [
    {
     "name": "stdout",
     "output_type": "stream",
     "text": [
      "R-squared value with Polynomial Features: 0.8319739796273965\n",
      "Root Mean Squared Error with Polynomial Features (Degree 2 ): 40.748694066885555\n"
     ]
    }
   ],
   "source": [
    "from sklearn.metrics import r2_score\n",
    "r_squared = r2_score(y_test, y_pred)\n",
    "\n",
    "print(\"R-squared value with Polynomial Features:\", r_squared)\n",
    "\n",
    "\n",
    "# Calculate root mean squared error\n",
    "mse = mean_squared_error(y_test, y_pred)\n",
    "rmse = np.sqrt(mse)\n",
    "\n",
    "print(\"Root Mean Squared Error with Polynomial Features (Degree\", degree, \"):\", rmse)"
   ]
  },
  {
   "cell_type": "markdown",
   "metadata": {},
   "source": [
    "### REGULARIZED REGRESSION"
   ]
  },
  {
   "cell_type": "code",
   "execution_count": 92,
   "metadata": {},
   "outputs": [],
   "source": [
    "from sklearn.linear_model import Ridge"
   ]
  },
  {
   "cell_type": "code",
   "execution_count": 97,
   "metadata": {},
   "outputs": [],
   "source": [
    "# Create and fit the Ridge Regression model\n",
    "ridge_model = Ridge(alpha= 0.01)  # Set the regularization strength (alpha)\n",
    "ridge_model.fit(X_train, y_train)\n",
    "\n",
    "# Predict on the testing data\n",
    "y_pred_ridge = ridge_model.predict(X_test)"
   ]
  },
  {
   "cell_type": "code",
   "execution_count": 98,
   "metadata": {},
   "outputs": [
    {
     "name": "stdout",
     "output_type": "stream",
     "text": [
      "Root Mean Squared Error (Ridge Regression): 51.02904250806788\n",
      "R-squared value (Ridge Regression): 0.7364979546260112\n"
     ]
    }
   ],
   "source": [
    "# Calculate root mean squared error\n",
    "rmse_ridge = mean_squared_error(y_test, y_pred_ridge, squared=False)\n",
    "print(\"Root Mean Squared Error (Ridge Regression):\", rmse_ridge)\n",
    "\n",
    "# Calculate R-squared value\n",
    "r_squared_ridge = ridge_model.score(X_test, y_test)\n",
    "print(\"R-squared value (Ridge Regression):\", r_squared_ridge)"
   ]
  },
  {
   "cell_type": "code",
   "execution_count": 100,
   "metadata": {},
   "outputs": [],
   "source": [
    "from sklearn.linear_model import Lasso"
   ]
  },
  {
   "cell_type": "code",
   "execution_count": 101,
   "metadata": {},
   "outputs": [],
   "source": [
    "# Create and fit the Lasso Regression model\n",
    "lasso_model = Lasso(alpha=1.0)  # Set the regularization strength (alpha)\n",
    "lasso_model.fit(X_train, y_train)\n",
    "\n",
    "# Predict on the testing data\n",
    "y_pred_lasso = lasso_model.predict(X_test)"
   ]
  },
  {
   "cell_type": "code",
   "execution_count": 102,
   "metadata": {},
   "outputs": [
    {
     "name": "stdout",
     "output_type": "stream",
     "text": [
      "Root Mean Squared Error (Lasso Regression): 51.084199591916196\n",
      "R-squared value (Lasso Regression): 0.7359280101955772\n"
     ]
    }
   ],
   "source": [
    "# Calculate root mean squared error\n",
    "rmse_lasso = mean_squared_error(y_test, y_pred_lasso, squared=False)\n",
    "print(\"Root Mean Squared Error (Lasso Regression):\", rmse_lasso)\n",
    "\n",
    "# Calculate R-squared value\n",
    "r_squared_lasso = lasso_model.score(X_test, y_test)\n",
    "print(\"R-squared value (Lasso Regression):\", r_squared_lasso)"
   ]
  },
  {
   "cell_type": "markdown",
   "metadata": {},
   "source": [
    "# 4. Insights and key findings\n"
   ]
  },
  {
   "cell_type": "markdown",
   "metadata": {},
   "source": [
    "**Polynomial Features Regression Performance**\n",
    "The regression model with polynomial features (degree 2) achieved a higher R-squared value (0.832) compared to simple linear regression (0.736). This implies that the polynomial features model explains a larger proportion of the variance in the target variable, suggesting a better fit to the data.\n",
    "\n",
    "**Root Mean Squared Error (RMSE)**\n",
    "The RMSE for both the polynomial features regression and simple linear regression is the same (40.748). This indicates that both models have similar accuracy in predicting the target variable on average. However, it's essential to consider the R-squared value as it provides information about the goodness of fit.\n",
    "\n",
    "**Regularized Regression (Ridge and Lasso)**\n",
    "The regularized regression techniques (Ridge and Lasso) did not perform as well as the polynomial features regression or simple linear regression in terms of R-squared value and RMSE. This suggests that in this particular scenario, regularization might not be necessary or beneficial."
   ]
  },
  {
   "cell_type": "markdown",
   "metadata": {},
   "source": [
    "1. The inclusion of polynomial features, particularly with a degree of 2, significantly improved the model's performance compared to simple linear regression.\n",
    "2. The dataset might exhibit nonlinear relationships between predictors and the target variable, which are captured more effectively by the polynomial features model.\n",
    "3. Ridge and Lasso regression techniques did not provide significant improvements over simple linear regression, indicating that the regularization might not be essential for this dataset or that the penalty parameters were not optimized effectively.\n",
    "4. Further feature engineering or exploration could enhance the model's performance, potentially by considering interactions between variables or including additional relevant features."
   ]
  },
  {
   "cell_type": "markdown",
   "metadata": {},
   "source": [
    "# 5. Next Steps\n"
   ]
  },
  {
   "cell_type": "markdown",
   "metadata": {},
   "source": [
    "1. Further explore the data to identify additional features or patterns that could improve the model's performance.\n",
    "2. Experiment with different degrees of polynomial features or other nonlinear regression techniques to potentially achieve even better results.\n",
    "3. Evaluate the model's performance on unseen data (e.g., using cross-validation) to ensure its generalizability.\n",
    "4. Consider ensemble methods or other advanced modeling techniques to further enhance predictive performance."
   ]
  },
  {
   "cell_type": "markdown",
   "metadata": {},
   "source": [
    "## <h3 align=\"center\"> © IBM Corporation 2020. All rights reserved. <h3/>\n"
   ]
  }
 ],
 "metadata": {
  "kernelspec": {
   "display_name": "Python 3 (ipykernel)",
   "language": "python",
   "name": "python3"
  },
  "language_info": {
   "codemirror_mode": {
    "name": "ipython",
    "version": 3
   },
   "file_extension": ".py",
   "mimetype": "text/x-python",
   "name": "python",
   "nbconvert_exporter": "python",
   "pygments_lexer": "ipython3",
   "version": "3.11.5"
  }
 },
 "nbformat": 4,
 "nbformat_minor": 4
}
